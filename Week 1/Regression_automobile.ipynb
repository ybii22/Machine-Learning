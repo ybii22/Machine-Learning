{
  "nbformat": 4,
  "nbformat_minor": 0,
  "metadata": {
    "colab": {
      "provenance": [],
      "authorship_tag": "ABX9TyPOzHUkDjDH20Rldv7BH0JU",
      "include_colab_link": true
    },
    "kernelspec": {
      "name": "python3",
      "display_name": "Python 3"
    },
    "language_info": {
      "name": "python"
    }
  },
  "cells": [
    {
      "cell_type": "markdown",
      "metadata": {
        "id": "view-in-github",
        "colab_type": "text"
      },
      "source": [
        "<a href=\"https://colab.research.google.com/github/ybii22/Machine-Learning/blob/main/Week%201/Regression_automobile.ipynb\" target=\"_parent\"><img src=\"https://colab.research.google.com/assets/colab-badge.svg\" alt=\"Open In Colab\"/></a>"
      ]
    },
    {
      "cell_type": "code",
      "source": [
        "pip install scikit-learn mglearn pandas matplotlib"
      ],
      "metadata": {
        "colab": {
          "base_uri": "https://localhost:8080/"
        },
        "id": "vIFd2kM4aXsa",
        "outputId": "13a858ed-afa3-494d-e9a6-187a48fcb147"
      },
      "execution_count": 19,
      "outputs": [
        {
          "output_type": "stream",
          "name": "stdout",
          "text": [
            "Requirement already satisfied: scikit-learn in /usr/local/lib/python3.11/dist-packages (1.6.1)\n",
            "Requirement already satisfied: mglearn in /usr/local/lib/python3.11/dist-packages (0.2.0)\n",
            "Requirement already satisfied: pandas in /usr/local/lib/python3.11/dist-packages (2.2.2)\n",
            "Requirement already satisfied: matplotlib in /usr/local/lib/python3.11/dist-packages (3.10.0)\n",
            "Requirement already satisfied: numpy>=1.19.5 in /usr/local/lib/python3.11/dist-packages (from scikit-learn) (1.26.4)\n",
            "Requirement already satisfied: scipy>=1.6.0 in /usr/local/lib/python3.11/dist-packages (from scikit-learn) (1.14.1)\n",
            "Requirement already satisfied: joblib>=1.2.0 in /usr/local/lib/python3.11/dist-packages (from scikit-learn) (1.4.2)\n",
            "Requirement already satisfied: threadpoolctl>=3.1.0 in /usr/local/lib/python3.11/dist-packages (from scikit-learn) (3.5.0)\n",
            "Requirement already satisfied: pillow in /usr/local/lib/python3.11/dist-packages (from mglearn) (11.1.0)\n",
            "Requirement already satisfied: cycler in /usr/local/lib/python3.11/dist-packages (from mglearn) (0.12.1)\n",
            "Requirement already satisfied: imageio in /usr/local/lib/python3.11/dist-packages (from mglearn) (2.37.0)\n",
            "Requirement already satisfied: python-dateutil>=2.8.2 in /usr/local/lib/python3.11/dist-packages (from pandas) (2.8.2)\n",
            "Requirement already satisfied: pytz>=2020.1 in /usr/local/lib/python3.11/dist-packages (from pandas) (2025.1)\n",
            "Requirement already satisfied: tzdata>=2022.7 in /usr/local/lib/python3.11/dist-packages (from pandas) (2025.1)\n",
            "Requirement already satisfied: contourpy>=1.0.1 in /usr/local/lib/python3.11/dist-packages (from matplotlib) (1.3.1)\n",
            "Requirement already satisfied: fonttools>=4.22.0 in /usr/local/lib/python3.11/dist-packages (from matplotlib) (4.56.0)\n",
            "Requirement already satisfied: kiwisolver>=1.3.1 in /usr/local/lib/python3.11/dist-packages (from matplotlib) (1.4.8)\n",
            "Requirement already satisfied: packaging>=20.0 in /usr/local/lib/python3.11/dist-packages (from matplotlib) (24.2)\n",
            "Requirement already satisfied: pyparsing>=2.3.1 in /usr/local/lib/python3.11/dist-packages (from matplotlib) (3.2.1)\n",
            "Requirement already satisfied: six>=1.5 in /usr/local/lib/python3.11/dist-packages (from python-dateutil>=2.8.2->pandas) (1.17.0)\n"
          ]
        }
      ]
    },
    {
      "cell_type": "markdown",
      "source": [
        "## **1.Import Library**"
      ],
      "metadata": {
        "id": "GZuicqBPzwtO"
      }
    },
    {
      "cell_type": "code",
      "execution_count": 20,
      "metadata": {
        "id": "ZmPg-QQAEiaO"
      },
      "outputs": [],
      "source": [
        "import numpy as np\n",
        "import pandas as pd\n",
        "import matplotlib.pyplot as plt\n",
        "import mglearn\n",
        "from sklearn.model_selection import train_test_split\n",
        "from sklearn.linear_model import LinearRegression\n",
        "from sklearn.metrics import mean_squared_error, r2_score"
      ]
    },
    {
      "cell_type": "markdown",
      "source": [
        "## **2. Load Dataset**"
      ],
      "metadata": {
        "id": "Yyu0tN2q0W3Z"
      }
    },
    {
      "cell_type": "code",
      "source": [
        "# Load dataset dari file CSV\n",
        "df = pd.read_csv(\"/content/Automobile.csv\")\n",
        "\n",
        "# Melihat 5 baris pertama\n",
        "print(df.head())"
      ],
      "metadata": {
        "id": "gKqWnWfYFCPl",
        "colab": {
          "base_uri": "https://localhost:8080/"
        },
        "outputId": "cee6f9cb-6e81-4d7e-f09e-44935b7ed559"
      },
      "execution_count": 21,
      "outputs": [
        {
          "output_type": "stream",
          "name": "stdout",
          "text": [
            "     price  highway-mpg  city-mpg  peak-rpm  horsepower  compression-ratio  \\\n",
            "0  13495.0           27        21    5000.0       111.0                9.0   \n",
            "1  16500.0           27        21    5000.0       111.0                9.0   \n",
            "2  16500.0           26        19    5000.0       154.0                9.0   \n",
            "3  13950.0           30        24    5500.0       102.0               10.0   \n",
            "4  17450.0           22        18    5500.0       115.0                8.0   \n",
            "\n",
            "   stroke  bore fuel-system  engine-size  ...  wheel-base engine-location  \\\n",
            "0    2.68  3.47        mpfi          130  ...        88.6           front   \n",
            "1    2.68  3.47        mpfi          130  ...        88.6           front   \n",
            "2    3.47  2.68        mpfi          152  ...        94.5           front   \n",
            "3    3.40  3.19        mpfi          109  ...        99.8           front   \n",
            "4    3.40  3.19        mpfi          136  ...        99.4           front   \n",
            "\n",
            "   drive-wheels   body-style  num-of-doors  aspiration  fuel-type  \\\n",
            "0           rwd  convertible           2.0         std        gas   \n",
            "1           rwd  convertible           2.0         std        gas   \n",
            "2           rwd    hatchback           2.0         std        gas   \n",
            "3           fwd        sedan           4.0         std        gas   \n",
            "4           4wd        sedan           4.0         std        gas   \n",
            "\n",
            "          make normalized-losses symboling  \n",
            "0  alfa-romero               NaN         3  \n",
            "1  alfa-romero               NaN         3  \n",
            "2  alfa-romero               NaN         1  \n",
            "3         audi             164.0         2  \n",
            "4         audi             164.0         2  \n",
            "\n",
            "[5 rows x 26 columns]\n"
          ]
        }
      ]
    },
    {
      "cell_type": "markdown",
      "source": [
        "## **3. Preprocessing Data**"
      ],
      "metadata": {
        "id": "Jmv6pdRw1V6w"
      }
    },
    {
      "cell_type": "code",
      "source": [
        "# Menghapus baris dengan nilai NaN\n",
        "df = df.dropna()\n",
        "\n",
        "# Memilih fitur numerik untuk prediksi\n",
        "features = [\"wheel-base\", \"length\", \"width\", \"height\", \"curb-weight\",\n",
        "            \"engine-size\", \"horsepower\", \"peak-rpm\", \"city-mpg\", \"highway-mpg\"]\n",
        "\n",
        "# Mengubah tipe data menjadi numerik\n",
        "df[features] = df[features].astype(float)\n",
        "\n",
        "# Memisahkan fitur (X) dan target (y)\n",
        "X = df[features]\n",
        "y = df[\"symboling\"]\n",
        "\n",
        "# Split data untuk training dan testing\n",
        "X_train, X_test, y_train, y_test = train_test_split(X, y, test_size=0.2, random_state=42)"
      ],
      "metadata": {
        "id": "dTv3fQzHy3Im"
      },
      "execution_count": 26,
      "outputs": []
    },
    {
      "cell_type": "markdown",
      "source": [
        "## **4. Model Linear Regression**"
      ],
      "metadata": {
        "id": "0_xr9ghB1lM2"
      }
    },
    {
      "cell_type": "code",
      "source": [
        "# Inisialisasi model\n",
        "model = LinearRegression()\n",
        "\n",
        "# Melatih model dengan data training\n",
        "model.fit(X_train, y_train)\n",
        "\n",
        "# Memprediksi data uji\n",
        "y_pred = model.predict(X_test)"
      ],
      "metadata": {
        "id": "0TP5Hq8SzA9z"
      },
      "execution_count": 27,
      "outputs": []
    },
    {
      "cell_type": "markdown",
      "source": [
        "## **5. Evaluasi Model**"
      ],
      "metadata": {
        "id": "LXymc1Nt1vVp"
      }
    },
    {
      "cell_type": "code",
      "source": [
        "# Menghitung Mean Squared Error (MSE)\n",
        "mse = mean_squared_error(y_test, y_pred)\n",
        "\n",
        "# Menghitung Root Mean Squared Error (RMSE)\n",
        "rmse = np.sqrt(mse)\n",
        "\n",
        "# Menghitung R-squared (R²)\n",
        "r2 = r2_score(y_test, y_pred)\n",
        "\n",
        "print(f\"Mean Squared Error (MSE): {mse}\")\n",
        "print(f\"Root Mean Squared Error (RMSE): {rmse}\")\n",
        "print(f\"R-squared (R²): {r2}\")"
      ],
      "metadata": {
        "colab": {
          "base_uri": "https://localhost:8080/"
        },
        "id": "AnEENDZyzJ8u",
        "outputId": "d5031244-1890-41a2-b467-edba8efa08fb"
      },
      "execution_count": 28,
      "outputs": [
        {
          "output_type": "stream",
          "name": "stdout",
          "text": [
            "Mean Squared Error (MSE): 0.8946282529634237\n",
            "Root Mean Squared Error (RMSE): 0.9458479016012161\n",
            "R-squared (R²): 0.3904861403629102\n"
          ]
        }
      ]
    },
    {
      "cell_type": "markdown",
      "source": [
        "#### a. Persamaan Linear Regression\n",
        "model regresi linear mengikuti persamaan :\n",
        "\n",
        "y=β\n",
        "0\n",
        "​\n",
        " +β\n",
        "1\n",
        "​\n",
        " X\n",
        "1\n",
        "​\n",
        " +β\n",
        "2\n",
        "​\n",
        " X\n",
        "2\n",
        "​\n",
        " +⋯+β\n",
        "n\n",
        "​\n",
        " X\n",
        "n\n",
        "​\n",
        " +ϵ\n",
        "\n",
        " dimana:\n",
        "\n",
        "\n",
        "*   𝑦 = variabel target (symboling)\n",
        "*   𝑋\n",
        "𝑖\n",
        "= fitur input (misalnya width, height, dll.)\n",
        "*   β\n",
        "0\n",
        "​\n",
        "  = intercept (nilai awal ketika semua fitur nol)\n",
        "*   𝛽\n",
        "𝑖\n",
        "​\n",
        "  = koefisien regresi untuk masing-masing fitur\n",
        "*   ϵ = error residual (perbedaan antara prediksi dan nilai aktual)\n",
        "\n",
        "\n",
        "#### b. MSE (Mean Squared Error)\n",
        "digunakan untuk mengukur rata-rata kesalahan kuadrat antara nilai aktual dan prediksi:\n",
        "MSE=\n",
        "n\n",
        "1\n",
        "​\n",
        "  \n",
        "i=1\n",
        "∑\n",
        "n\n",
        "​\n",
        " (y\n",
        "i\n",
        "​\n",
        " −\n",
        "y\n",
        "^\n",
        "​\n",
        "i\n",
        "​\n",
        " )\n",
        "2\n",
        "\n",
        "dimana:\n",
        "\n",
        "*   yi\n",
        "  = nilai aktual\n",
        "*   y^\n",
        "​\n",
        "i\n",
        "​\n",
        "  = nilai prediksi\n",
        "*   n = jumlah sampe\n",
        "\n",
        "#### c. RMSE (Root Mean Squared Error)\n",
        "digunakan agar kesalahan memiliki satuan yang sama dengan variabel target.\n",
        "\n",
        "RMSE=\n",
        "akar MSE\n",
        "​\n",
        "\n",
        "RMSE lebih mudah diinterpretasikan dibandingkan MSE karena memiliki satuan yang sama dengan data asli.\n",
        "\n",
        "#### d. R-Squared\n",
        "digunakan untuk mengukur seberapa baik model menjelaskan variabel data.\n",
        "R\n",
        "2\n",
        " =1−\n",
        "∑(y\n",
        "i\n",
        "​\n",
        " −\n",
        "y\n",
        "^\n",
        "​\n",
        "i\n",
        " )\n",
        "2\n",
        "/\n",
        "∑(y\n",
        "i\n",
        "​\n",
        " −\n",
        "y\n",
        "ˉ\n",
        "​\n",
        " )\n",
        "2\n",
        "​\n",
        "\n",
        "dimana:\n",
        "\n",
        "*   y\n",
        "ˉ\n",
        "​\n",
        "  = rata-rata nilai aktual\n",
        "*   Jika\n",
        "𝑅\n",
        "2\n",
        "=\n",
        "1,model sempurna\n",
        "*   Jika\n",
        "𝑅\n",
        "2\n",
        "=\n",
        "0, model tidak lebih baik dari rata-rata data\n"
      ],
      "metadata": {
        "id": "J0y10UDG1zHX"
      }
    },
    {
      "cell_type": "markdown",
      "source": [
        "## **5. Visualisasi**"
      ],
      "metadata": {
        "id": "JL5cwvsl7cHt"
      }
    },
    {
      "cell_type": "code",
      "source": [
        "# Visualisasi hubungan antara prediksi dan nilai aktual\n",
        "plt.scatter(y_test, y_pred)\n",
        "plt.xlabel(\"Actual Symboling\")\n",
        "plt.ylabel(\"Predicted Symboling\")\n",
        "plt.title(\"Linear Regression Prediction vs Actual\")\n",
        "plt.show()\n",
        "\n",
        "# Visualisasi model linear dengan satu fitur (contoh: width)\n",
        "mglearn.plots.plot_linear_regression_wave()\n",
        "plt.show()"
      ],
      "metadata": {
        "colab": {
          "base_uri": "https://localhost:8080/",
          "height": 1000
        },
        "id": "szYL8HBKzQpT",
        "outputId": "57761490-bd24-433f-c0fa-4eefcc296535"
      },
      "execution_count": 25,
      "outputs": [
        {
          "output_type": "display_data",
          "data": {
            "text/plain": [
              "<Figure size 640x480 with 1 Axes>"
            ],
            "image/png": "[encoded data removed]"
          },
          "metadata": {}
        },
        {
          "output_type": "stream",
          "name": "stdout",
          "text": [
            "w[0]: 0.393906  b: -0.031804\n"
          ]
        },
        {
          "output_type": "display_data",
          "data": {
            "text/plain": [
              "<Figure size 800x800 with 1 Axes>"
            ],
            "image/png": "[encoded data removed]"
          },
          "metadata": {}
        }
      ]
    }
  ]
}