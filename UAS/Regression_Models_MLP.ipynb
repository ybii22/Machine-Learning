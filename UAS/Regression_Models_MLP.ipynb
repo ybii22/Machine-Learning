{
  "nbformat": 4,
  "nbformat_minor": 0,
  "metadata": {
    "colab": {
      "provenance": [],
      "authorship_tag": "ABX9TyM7CitjkfIjJFC9Z+IaNsoF",
      "include_colab_link": true
    },
    "kernelspec": {
      "name": "python3",
      "display_name": "Python 3"
    },
    "language_info": {
      "name": "python"
    }
  },
  "cells": [
    {
      "cell_type": "markdown",
      "metadata": {
        "id": "view-in-github",
        "colab_type": "text"
      },
      "source": [
        "<a href=\"https://colab.research.google.com/github/ybii22/Machine-Learning/blob/main/UAS/Regression_Models_MLP.ipynb\" target=\"_parent\"><img src=\"https://colab.research.google.com/assets/colab-badge.svg\" alt=\"Open In Colab\"/></a>"
      ]
    },
    {
      "cell_type": "markdown",
      "source": [
        "## **Pengumpulan dan Pembersihan Data**"
      ],
      "metadata": {
        "id": "WCJSBwAMPCsh"
      }
    },
    {
      "cell_type": "code",
      "execution_count": 5,
      "metadata": {
        "id": "mbj_FlGppygU",
        "colab": {
          "base_uri": "https://localhost:8080/"
        },
        "outputId": "1fb790a2-1d43-4571-d9e1-972fe2b2faca"
      },
      "outputs": [
        {
          "output_type": "stream",
          "name": "stderr",
          "text": [
            "Downloading...\n",
            "From (original): https://drive.google.com/uc?id=1n28AkAxZc4fzMQQNTrnssw4uWUG_oAUs\n",
            "From (redirected): https://drive.google.com/uc?id=1n28AkAxZc4fzMQQNTrnssw4uWUG_oAUs&confirm=t&uuid=9daa756a-6d41-4f54-aed8-7be41905d9df\n",
            "To: /content/data.csv\n",
            "100%|██████████| 443M/443M [00:09<00:00, 47.1MB/s]\n"
          ]
        },
        {
          "output_type": "stream",
          "name": "stdout",
          "text": [
            "Contoh data:\n",
            "   2001  49.94357  21.47114   73.0775   8.74861  -17.40628  -13.09905  \\\n",
            "0  2001  48.73215  18.42930  70.32679  12.94636  -10.32437  -24.83777   \n",
            "1  2001  50.95714  31.85602  55.81851  13.41693   -6.57898  -18.54940   \n",
            "2  2001  48.24750  -1.89837  36.29772   2.58776    0.97170  -26.21683   \n",
            "3  2001  50.97020  42.20998  67.09964   8.46791  -15.85279  -16.81409   \n",
            "4  2001  50.54767   0.31568  92.35066  22.38696  -25.51870  -19.04928   \n",
            "\n",
            "   -25.01202  -12.23257   7.83089  ...   13.0162  -54.40548  58.99367  \\\n",
            "0    8.76630   -0.92019  18.76548  ...   5.66812  -19.68073  33.04964   \n",
            "1   -3.27872   -2.35035  16.07017  ...   3.03800   26.05866 -50.92779   \n",
            "2    5.05097  -10.34124   3.55005  ...  34.57337 -171.70734 -16.96705   \n",
            "3  -12.48207   -9.37636  12.63699  ...   9.92661  -55.95724  64.92712   \n",
            "4   20.67345   -5.19943   3.63566  ...   6.59753  -50.69577  26.02574   \n",
            "\n",
            "   15.37344   1.11144  -23.08793   68.40795  -1.82223  -27.46348   2.26327  \n",
            "0  42.87836  -9.90378  -32.22788   70.49388  12.04941   58.43453  26.92061  \n",
            "1  10.93792  -0.07568   43.20130 -115.00698  -0.05859   39.67068  -0.66345  \n",
            "2 -46.67617 -12.51516   82.58061  -72.08993   9.90558  199.62971  18.85382  \n",
            "3 -17.72522  -1.49237   -7.50035   51.76631   7.88713   55.66926  28.74903  \n",
            "4  18.94430  -0.33730    6.09352   35.18381   5.00283  -11.02257   0.02263  \n",
            "\n",
            "[5 rows x 91 columns]\n",
            "\n",
            "Tipe data:\n",
            "2001           int64\n",
            "49.94357     float64\n",
            "21.47114     float64\n",
            "73.0775      float64\n",
            "8.74861      float64\n",
            "              ...   \n",
            "-23.08793    float64\n",
            "68.40795     float64\n",
            "-1.82223     float64\n",
            "-27.46348    float64\n",
            "2.26327      float64\n",
            "Length: 91, dtype: object\n",
            "\n",
            "Target Column: 2001\n",
            "\n",
            "Nilai null per kolom:\n",
            "2001         0\n",
            "49.94357     0\n",
            "21.47114     0\n",
            "73.0775      0\n",
            "8.74861      0\n",
            "            ..\n",
            "-23.08793    0\n",
            "68.40795     0\n",
            "-1.82223     0\n",
            "-27.46348    0\n",
            "2.26327      0\n",
            "Length: 91, dtype: int64\n",
            "Data setelah drop NA: (515344, 91)\n",
            "Jumlah duplikat: 214\n",
            "Data final: (515130, 91)\n"
          ]
        }
      ],
      "source": [
        "import pandas as pd\n",
        "import gdown\n",
        "\n",
        "# === 1. Unduh file dari Google Drive dengan URL langsung ===\n",
        "url = \"https://drive.google.com/uc?id=1n28AkAxZc4fzMQQNTrnssw4uWUG_oAUs\"\n",
        "output = \"data.csv\"\n",
        "\n",
        "gdown.download(url, output, quiet=False)\n",
        "\n",
        "# === 2. Baca file CSV ke dalam DataFrame ===\n",
        "df = pd.read_csv(output)\n",
        "\n",
        "# Tampilkan 5 data teratas\n",
        "print(\"Contoh data:\")\n",
        "print(df.head())\n",
        "\n",
        "# Tampilkan tipe data tiap kolom\n",
        "print(\"\\nTipe data:\")\n",
        "print(df.dtypes)\n",
        "\n",
        "# Pilih target column pertama bertipe int\n",
        "target_column = df.select_dtypes(include=['int64', 'int32']).columns[0]\n",
        "print(f\"\\nTarget Column: {target_column}\")\n",
        "\n",
        "# Cek null\n",
        "print(\"\\nNilai null per kolom:\")\n",
        "print(df.isnull().sum())\n",
        "\n",
        "# Hapus baris null jika ada\n",
        "df_cleaned = df.dropna()\n",
        "\n",
        "print(f\"Data setelah drop NA: {df_cleaned.shape}\")\n",
        "\n",
        "# Jumlah duplikat\n",
        "print(f\"Jumlah duplikat: {df_cleaned.duplicated().sum()}\")\n",
        "\n",
        "# Hapus duplikat\n",
        "df_cleaned = df_cleaned.drop_duplicates()\n",
        "\n",
        "print(f\"Data final: {df_cleaned.shape}\")\n"
      ]
    },
    {
      "cell_type": "markdown",
      "source": [
        "## **Feature Engineering**\n"
      ],
      "metadata": {
        "id": "fL-7ZekhzG8W"
      }
    },
    {
      "cell_type": "code",
      "source": [
        "import pandas as pd\n",
        "from sklearn.model_selection import train_test_split\n",
        "from sklearn.preprocessing import StandardScaler\n",
        "\n",
        "# --- Pisahkan target dan fitur ---\n",
        "X = df_cleaned.drop(columns=[target_column])\n",
        "y = df_cleaned[target_column]\n",
        "\n",
        "print(\" Contoh Fitur:\")\n",
        "print(X.head())\n",
        "print(\"\\n Contoh Target:\")\n",
        "print(y.head())\n",
        "\n",
        "# --- Identifikasi kolom kategorikal dan numerik ---\n",
        "categorical_cols = X.select_dtypes(include='object').columns.tolist()\n",
        "numeric_cols = X.select_dtypes(include=['int64', 'float64']).columns.tolist()\n",
        "\n",
        "print(f\"Kolom kategorikal: {categorical_cols}\")\n",
        "print(f\"Kolom numerik: {numeric_cols}\")\n",
        "\n",
        "# --- One-hot encoding untuk kolom kategorikal ---\n",
        "X_encoded = pd.get_dummies(X, columns=categorical_cols, drop_first=True)\n",
        "print(f\"Bentuk fitur setelah encoding: {X_encoded.shape}\")\n",
        "\n",
        "# --- Normalisasi fitur ---\n",
        "scaler = StandardScaler()\n",
        "X_scaled = scaler.fit_transform(X_encoded)\n",
        "\n",
        "print(\"Contoh data setelah normalisasi:\")\n",
        "print(pd.DataFrame(X_scaled, columns=X_encoded.columns).head())\n",
        "\n",
        "# --- Split train dan test ---\n",
        "X_train, X_test, y_train, y_test = train_test_split(\n",
        "    X_scaled, y, test_size=0.2, random_state=42\n",
        ")\n",
        "\n",
        "print(\"Data training:\", X_train.shape)\n",
        "print(\"Data testing :\", X_test.shape)\n"
      ],
      "metadata": {
        "colab": {
          "base_uri": "https://localhost:8080/"
        },
        "collapsed": true,
        "id": "0BM30IIYzNgN",
        "outputId": "7f913cdf-f400-47e1-b7dd-9fa651927bda"
      },
      "execution_count": 10,
      "outputs": [
        {
          "output_type": "stream",
          "name": "stdout",
          "text": [
            " Contoh Fitur:\n",
            "   49.94357  21.47114   73.0775   8.74861  -17.40628  -13.09905  -25.01202  \\\n",
            "0  48.73215  18.42930  70.32679  12.94636  -10.32437  -24.83777    8.76630   \n",
            "1  50.95714  31.85602  55.81851  13.41693   -6.57898  -18.54940   -3.27872   \n",
            "2  48.24750  -1.89837  36.29772   2.58776    0.97170  -26.21683    5.05097   \n",
            "3  50.97020  42.20998  67.09964   8.46791  -15.85279  -16.81409  -12.48207   \n",
            "4  50.54767   0.31568  92.35066  22.38696  -25.51870  -19.04928   20.67345   \n",
            "\n",
            "   -12.23257   7.83089  -2.46783  ...   13.0162  -54.40548  58.99367  \\\n",
            "0   -0.92019  18.76548   4.59210  ...   5.66812  -19.68073  33.04964   \n",
            "1   -2.35035  16.07017   1.39518  ...   3.03800   26.05866 -50.92779   \n",
            "2  -10.34124   3.55005  -6.36304  ...  34.57337 -171.70734 -16.96705   \n",
            "3   -9.37636  12.63699   0.93609  ...   9.92661  -55.95724  64.92712   \n",
            "4   -5.19943   3.63566  -4.69088  ...   6.59753  -50.69577  26.02574   \n",
            "\n",
            "   15.37344   1.11144  -23.08793   68.40795  -1.82223  -27.46348   2.26327  \n",
            "0  42.87836  -9.90378  -32.22788   70.49388  12.04941   58.43453  26.92061  \n",
            "1  10.93792  -0.07568   43.20130 -115.00698  -0.05859   39.67068  -0.66345  \n",
            "2 -46.67617 -12.51516   82.58061  -72.08993   9.90558  199.62971  18.85382  \n",
            "3 -17.72522  -1.49237   -7.50035   51.76631   7.88713   55.66926  28.74903  \n",
            "4  18.94430  -0.33730    6.09352   35.18381   5.00283  -11.02257   0.02263  \n",
            "\n",
            "[5 rows x 90 columns]\n",
            "\n",
            " Contoh Target:\n",
            "0    2001\n",
            "1    2001\n",
            "2    2001\n",
            "3    2001\n",
            "4    2001\n",
            "Name: 2001, dtype: int64\n",
            "Kolom kategorikal: []\n",
            "Kolom numerik: ['49.94357', '21.47114', '73.0775', '8.74861', '-17.40628', '-13.09905', '-25.01202', '-12.23257', '7.83089', '-2.46783', '3.32136', '-2.31521', '10.20556', '611.10913', '951.0896', '698.11428', '408.98485', '383.70912', '326.51512', '238.11327', '251.42414', '187.17351', '100.42652', '179.19498', '-8.41558', '-317.87038', '95.86266', '48.10259', '-95.66303', '-18.06215', '1.96984', '34.42438', '11.7267', '1.3679', '7.79444', '-0.36994', '-133.67852', '-83.26165', '-37.29765', '73.04667', '-37.36684', '-3.13853', '-24.21531', '-13.23066', '15.93809', '-18.60478', '82.15479', '240.5798', '-10.29407', '31.58431', '-25.38187', '-3.90772', '13.29258', '41.5506', '-7.26272', '-21.00863', '105.50848', '64.29856', '26.08481', '-44.5911', '-8.30657', '7.93706', '-10.7366', '-95.44766', '-82.03307', '-35.59194', '4.69525', '70.95626', '28.09139', '6.02015', '-37.13767', '-41.1245', '-8.40816', '7.19877', '-8.60176', '-5.90857', '-12.32437', '14.68734', '-54.32125', '40.14786', '13.0162', '-54.40548', '58.99367', '15.37344', '1.11144', '-23.08793', '68.40795', '-1.82223', '-27.46348', '2.26327']\n",
            "Bentuk fitur setelah encoding: (515130, 90)\n",
            "Contoh data setelah normalisasi:\n",
            "   49.94357  21.47114   73.0775   8.74861  -17.40628  -13.09905  -25.01202  \\\n",
            "0  0.881013  0.332369  1.748415  0.721824  -0.164928  -1.191161   0.765627   \n",
            "1  1.247694  0.592659  1.337075  0.750653  -0.001100  -0.702108  -0.060913   \n",
            "2  0.801142 -0.061702  0.783619  0.087203   0.329174  -1.298412   0.510678   \n",
            "3  1.249846  0.793380  1.656918  0.447451  -0.406747  -0.567151  -0.692455   \n",
            "4  1.180213 -0.018781  2.372838  1.300203  -0.829544  -0.740984   1.582706   \n",
            "\n",
            "   -12.23257   7.83089  -2.46783  ...   13.0162  -54.40548  58.99367  \\\n",
            "0   0.109611  1.420832  0.414942  ... -0.314260   0.306221 -0.069511   \n",
            "1  -0.069960  1.166167 -0.074607  ... -0.396193   0.566671 -0.756552   \n",
            "2  -1.073302 -0.016790 -1.262633  ...  0.586194  -0.559452 -0.478710   \n",
            "3  -0.952151  0.841785 -0.144908  ... -0.181600   0.099654  0.191287   \n",
            "4  -0.427693 -0.008701 -1.006573  ... -0.285307   0.129614 -0.126975   \n",
            "\n",
            "   15.37344   1.11144  -23.08793  68.40795  -1.82223  -27.46348   2.26327  \n",
            "0  0.052013 -0.632244  -0.436133  0.556439  0.568694   0.206929  1.158515  \n",
            "1 -0.284013 -0.024141   0.223090 -0.509721 -0.338498   0.105814 -0.090227  \n",
            "2 -0.890137 -0.793820   0.567251 -0.263057  0.408068   0.967803  0.793328  \n",
            "3 -0.585561 -0.111798  -0.220023  0.448803  0.256835   0.192028  1.241289  \n",
            "4 -0.199783 -0.040329  -0.101218  0.353495  0.040729  -0.167362 -0.059168  \n",
            "\n",
            "[5 rows x 90 columns]\n",
            "Data training: (412104, 90)\n",
            "Data testing : (103026, 90)\n"
          ]
        }
      ]
    },
    {
      "cell_type": "markdown",
      "source": [
        "## **MLP (Multi-Layer Perceptron)**"
      ],
      "metadata": {
        "id": "auedXcPePf8g"
      }
    },
    {
      "cell_type": "markdown",
      "source": [
        "### **TensorFlow**"
      ],
      "metadata": {
        "id": "YmaIi8GNPwPR"
      }
    },
    {
      "cell_type": "code",
      "source": [
        "pip install tensorflow"
      ],
      "metadata": {
        "colab": {
          "base_uri": "https://localhost:8080/"
        },
        "collapsed": true,
        "id": "5iGzGdUV_Hd5",
        "outputId": "c68aa267-0945-4905-efc3-27ab40e0501e"
      },
      "execution_count": 7,
      "outputs": [
        {
          "output_type": "stream",
          "name": "stdout",
          "text": [
            "Requirement already satisfied: tensorflow in /usr/local/lib/python3.11/dist-packages (2.18.0)\n",
            "Requirement already satisfied: absl-py>=1.0.0 in /usr/local/lib/python3.11/dist-packages (from tensorflow) (1.4.0)\n",
            "Requirement already satisfied: astunparse>=1.6.0 in /usr/local/lib/python3.11/dist-packages (from tensorflow) (1.6.3)\n",
            "Requirement already satisfied: flatbuffers>=24.3.25 in /usr/local/lib/python3.11/dist-packages (from tensorflow) (25.2.10)\n",
            "Requirement already satisfied: gast!=0.5.0,!=0.5.1,!=0.5.2,>=0.2.1 in /usr/local/lib/python3.11/dist-packages (from tensorflow) (0.6.0)\n",
            "Requirement already satisfied: google-pasta>=0.1.1 in /usr/local/lib/python3.11/dist-packages (from tensorflow) (0.2.0)\n",
            "Requirement already satisfied: libclang>=13.0.0 in /usr/local/lib/python3.11/dist-packages (from tensorflow) (18.1.1)\n",
            "Requirement already satisfied: opt-einsum>=2.3.2 in /usr/local/lib/python3.11/dist-packages (from tensorflow) (3.4.0)\n",
            "Requirement already satisfied: packaging in /usr/local/lib/python3.11/dist-packages (from tensorflow) (24.2)\n",
            "Requirement already satisfied: protobuf!=4.21.0,!=4.21.1,!=4.21.2,!=4.21.3,!=4.21.4,!=4.21.5,<6.0.0dev,>=3.20.3 in /usr/local/lib/python3.11/dist-packages (from tensorflow) (5.29.5)\n",
            "Requirement already satisfied: requests<3,>=2.21.0 in /usr/local/lib/python3.11/dist-packages (from tensorflow) (2.32.3)\n",
            "Requirement already satisfied: setuptools in /usr/local/lib/python3.11/dist-packages (from tensorflow) (75.2.0)\n",
            "Requirement already satisfied: six>=1.12.0 in /usr/local/lib/python3.11/dist-packages (from tensorflow) (1.17.0)\n",
            "Requirement already satisfied: termcolor>=1.1.0 in /usr/local/lib/python3.11/dist-packages (from tensorflow) (3.1.0)\n",
            "Requirement already satisfied: typing-extensions>=3.6.6 in /usr/local/lib/python3.11/dist-packages (from tensorflow) (4.14.0)\n",
            "Requirement already satisfied: wrapt>=1.11.0 in /usr/local/lib/python3.11/dist-packages (from tensorflow) (1.17.2)\n",
            "Requirement already satisfied: grpcio<2.0,>=1.24.3 in /usr/local/lib/python3.11/dist-packages (from tensorflow) (1.73.0)\n",
            "Requirement already satisfied: tensorboard<2.19,>=2.18 in /usr/local/lib/python3.11/dist-packages (from tensorflow) (2.18.0)\n",
            "Requirement already satisfied: keras>=3.5.0 in /usr/local/lib/python3.11/dist-packages (from tensorflow) (3.8.0)\n",
            "Requirement already satisfied: numpy<2.1.0,>=1.26.0 in /usr/local/lib/python3.11/dist-packages (from tensorflow) (2.0.2)\n",
            "Requirement already satisfied: h5py>=3.11.0 in /usr/local/lib/python3.11/dist-packages (from tensorflow) (3.14.0)\n",
            "Requirement already satisfied: ml-dtypes<0.5.0,>=0.4.0 in /usr/local/lib/python3.11/dist-packages (from tensorflow) (0.4.1)\n",
            "Requirement already satisfied: tensorflow-io-gcs-filesystem>=0.23.1 in /usr/local/lib/python3.11/dist-packages (from tensorflow) (0.37.1)\n",
            "Requirement already satisfied: wheel<1.0,>=0.23.0 in /usr/local/lib/python3.11/dist-packages (from astunparse>=1.6.0->tensorflow) (0.45.1)\n",
            "Requirement already satisfied: rich in /usr/local/lib/python3.11/dist-packages (from keras>=3.5.0->tensorflow) (13.9.4)\n",
            "Requirement already satisfied: namex in /usr/local/lib/python3.11/dist-packages (from keras>=3.5.0->tensorflow) (0.1.0)\n",
            "Requirement already satisfied: optree in /usr/local/lib/python3.11/dist-packages (from keras>=3.5.0->tensorflow) (0.16.0)\n",
            "Requirement already satisfied: charset-normalizer<4,>=2 in /usr/local/lib/python3.11/dist-packages (from requests<3,>=2.21.0->tensorflow) (3.4.2)\n",
            "Requirement already satisfied: idna<4,>=2.5 in /usr/local/lib/python3.11/dist-packages (from requests<3,>=2.21.0->tensorflow) (3.10)\n",
            "Requirement already satisfied: urllib3<3,>=1.21.1 in /usr/local/lib/python3.11/dist-packages (from requests<3,>=2.21.0->tensorflow) (2.4.0)\n",
            "Requirement already satisfied: certifi>=2017.4.17 in /usr/local/lib/python3.11/dist-packages (from requests<3,>=2.21.0->tensorflow) (2025.4.26)\n",
            "Requirement already satisfied: markdown>=2.6.8 in /usr/local/lib/python3.11/dist-packages (from tensorboard<2.19,>=2.18->tensorflow) (3.8)\n",
            "Requirement already satisfied: tensorboard-data-server<0.8.0,>=0.7.0 in /usr/local/lib/python3.11/dist-packages (from tensorboard<2.19,>=2.18->tensorflow) (0.7.2)\n",
            "Requirement already satisfied: werkzeug>=1.0.1 in /usr/local/lib/python3.11/dist-packages (from tensorboard<2.19,>=2.18->tensorflow) (3.1.3)\n",
            "Requirement already satisfied: MarkupSafe>=2.1.1 in /usr/local/lib/python3.11/dist-packages (from werkzeug>=1.0.1->tensorboard<2.19,>=2.18->tensorflow) (3.0.2)\n",
            "Requirement already satisfied: markdown-it-py>=2.2.0 in /usr/local/lib/python3.11/dist-packages (from rich->keras>=3.5.0->tensorflow) (3.0.0)\n",
            "Requirement already satisfied: pygments<3.0.0,>=2.13.0 in /usr/local/lib/python3.11/dist-packages (from rich->keras>=3.5.0->tensorflow) (2.19.1)\n",
            "Requirement already satisfied: mdurl~=0.1 in /usr/local/lib/python3.11/dist-packages (from markdown-it-py>=2.2.0->rich->keras>=3.5.0->tensorflow) (0.1.2)\n"
          ]
        }
      ]
    },
    {
      "cell_type": "code",
      "source": [
        "import tensorflow as tf\n",
        "from tensorflow.keras import layers, models, callbacks, regularizers\n",
        "\n",
        "# MLP Model\n",
        "def create_mlp_keras(input_dim):\n",
        "    model = models.Sequential()\n",
        "    model.add(layers.Input(shape=(input_dim,)))\n",
        "    model.add(layers.Dense(128, activation='relu', kernel_regularizer=regularizers.l2(0.001)))\n",
        "    model.add(layers.BatchNormalization())\n",
        "    model.add(layers.Dropout(0.3))\n",
        "\n",
        "    model.add(layers.Dense(64, activation='relu'))\n",
        "    model.add(layers.BatchNormalization())\n",
        "    model.add(layers.Dropout(0.3))\n",
        "\n",
        "    model.add(layers.Dense(1))  # Regression\n",
        "\n",
        "    return model\n",
        "\n",
        "# Buat model\n",
        "model = create_mlp_keras(X_train.shape[1])\n",
        "\n",
        "# Kompilasi\n",
        "model.compile(\n",
        "    optimizer=tf.keras.optimizers.Adam(learning_rate=0.001),\n",
        "    loss='mse',\n",
        "    metrics=['mae']\n",
        ")\n",
        "\n",
        "# Callback: early stopping & lr scheduler\n",
        "early_stop = callbacks.EarlyStopping(patience=10, restore_best_weights=True)\n",
        "lr_sched = callbacks.ReduceLROnPlateau(factor=0.5, patience=5)\n",
        "\n",
        "# Training\n",
        "history = model.fit(\n",
        "    X_train, y_train,\n",
        "    epochs=100,\n",
        "    batch_size=32,\n",
        "    validation_split=0.2,\n",
        "    callbacks=[early_stop, lr_sched],\n",
        "    verbose=1\n",
        ")\n"
      ],
      "metadata": {
        "colab": {
          "base_uri": "https://localhost:8080/"
        },
        "id": "0d-WOwm__I37",
        "outputId": "89b54054-b7dc-424b-8cf0-cff53f8da515"
      },
      "execution_count": 4,
      "outputs": [
        {
          "output_type": "stream",
          "name": "stdout",
          "text": [
            "Epoch 1/100\n",
            "\u001b[1m10303/10303\u001b[0m \u001b[32m━━━━━━━━━━━━━━━━━━━━\u001b[0m\u001b[37m\u001b[0m \u001b[1m58s\u001b[0m 5ms/step - loss: 2081591.0000 - mae: 1253.0421 - val_loss: 345.0248 - val_mae: 16.2725 - learning_rate: 0.0010\n",
            "Epoch 2/100\n",
            "\u001b[1m10303/10303\u001b[0m \u001b[32m━━━━━━━━━━━━━━━━━━━━\u001b[0m\u001b[37m\u001b[0m \u001b[1m58s\u001b[0m 6ms/step - loss: 26746.5703 - mae: 130.3218 - val_loss: 355.6237 - val_mae: 17.4130 - learning_rate: 0.0010\n",
            "Epoch 3/100\n",
            "\u001b[1m10303/10303\u001b[0m \u001b[32m━━━━━━━━━━━━━━━━━━━━\u001b[0m\u001b[37m\u001b[0m \u001b[1m76s\u001b[0m 5ms/step - loss: 26600.7871 - mae: 130.0213 - val_loss: 132.0033 - val_mae: 9.7010 - learning_rate: 0.0010\n",
            "Epoch 4/100\n",
            "\u001b[1m10303/10303\u001b[0m \u001b[32m━━━━━━━━━━━━━━━━━━━━\u001b[0m\u001b[37m\u001b[0m \u001b[1m51s\u001b[0m 5ms/step - loss: 26104.3789 - mae: 128.7712 - val_loss: 281.9946 - val_mae: 15.4343 - learning_rate: 0.0010\n",
            "Epoch 5/100\n",
            "\u001b[1m10303/10303\u001b[0m \u001b[32m━━━━━━━━━━━━━━━━━━━━\u001b[0m\u001b[37m\u001b[0m \u001b[1m55s\u001b[0m 5ms/step - loss: 26197.4297 - mae: 128.9405 - val_loss: 191.2175 - val_mae: 12.3624 - learning_rate: 0.0010\n",
            "Epoch 6/100\n",
            "\u001b[1m10303/10303\u001b[0m \u001b[32m━━━━━━━━━━━━━━━━━━━━\u001b[0m\u001b[37m\u001b[0m \u001b[1m55s\u001b[0m 5ms/step - loss: 25992.5234 - mae: 128.3911 - val_loss: 414.4860 - val_mae: 18.9546 - learning_rate: 0.0010\n",
            "Epoch 7/100\n",
            "\u001b[1m10303/10303\u001b[0m \u001b[32m━━━━━━━━━━━━━━━━━━━━\u001b[0m\u001b[37m\u001b[0m \u001b[1m76s\u001b[0m 5ms/step - loss: 25942.2969 - mae: 128.4748 - val_loss: 262.5279 - val_mae: 14.7501 - learning_rate: 0.0010\n",
            "Epoch 8/100\n",
            "\u001b[1m10303/10303\u001b[0m \u001b[32m━━━━━━━━━━━━━━━━━━━━\u001b[0m\u001b[37m\u001b[0m \u001b[1m55s\u001b[0m 5ms/step - loss: 25845.4766 - mae: 128.0142 - val_loss: 253.1011 - val_mae: 14.3450 - learning_rate: 0.0010\n",
            "Epoch 9/100\n",
            "\u001b[1m10303/10303\u001b[0m \u001b[32m━━━━━━━━━━━━━━━━━━━━\u001b[0m\u001b[37m\u001b[0m \u001b[1m54s\u001b[0m 5ms/step - loss: 25584.2852 - mae: 127.4432 - val_loss: 232.3988 - val_mae: 13.8414 - learning_rate: 5.0000e-04\n",
            "Epoch 10/100\n",
            "\u001b[1m10303/10303\u001b[0m \u001b[32m━━━━━━━━━━━━━━━━━━━━\u001b[0m\u001b[37m\u001b[0m \u001b[1m60s\u001b[0m 6ms/step - loss: 25739.7305 - mae: 128.0189 - val_loss: 306.4173 - val_mae: 16.2046 - learning_rate: 5.0000e-04\n",
            "Epoch 11/100\n",
            "\u001b[1m10303/10303\u001b[0m \u001b[32m━━━━━━━━━━━━━━━━━━━━\u001b[0m\u001b[37m\u001b[0m \u001b[1m77s\u001b[0m 5ms/step - loss: 25534.6777 - mae: 127.5272 - val_loss: 249.6578 - val_mae: 14.3687 - learning_rate: 5.0000e-04\n",
            "Epoch 12/100\n",
            "\u001b[1m10303/10303\u001b[0m \u001b[32m━━━━━━━━━━━━━━━━━━━━\u001b[0m\u001b[37m\u001b[0m \u001b[1m80s\u001b[0m 5ms/step - loss: 25672.7559 - mae: 127.7179 - val_loss: 270.7423 - val_mae: 15.1837 - learning_rate: 5.0000e-04\n",
            "Epoch 13/100\n",
            "\u001b[1m10303/10303\u001b[0m \u001b[32m━━━━━━━━━━━━━━━━━━━━\u001b[0m\u001b[37m\u001b[0m \u001b[1m56s\u001b[0m 5ms/step - loss: 25566.2129 - mae: 127.4967 - val_loss: 217.3133 - val_mae: 13.2846 - learning_rate: 5.0000e-04\n"
          ]
        }
      ]
    },
    {
      "cell_type": "markdown",
      "source": [
        "### **PyTorch**"
      ],
      "metadata": {
        "id": "Poo-_HZrQRUy"
      }
    },
    {
      "cell_type": "code",
      "source": [
        "pip install torch"
      ],
      "metadata": {
        "colab": {
          "base_uri": "https://localhost:8080/",
          "height": 1000
        },
        "collapsed": true,
        "id": "dq9svJBz_Q4N",
        "outputId": "1e8ab23f-660f-41b9-d8ec-78efd3b7efc3"
      },
      "execution_count": 5,
      "outputs": [
        {
          "output_type": "stream",
          "name": "stdout",
          "text": [
            "Requirement already satisfied: torch in /usr/local/lib/python3.11/dist-packages (2.6.0+cu124)\n",
            "Requirement already satisfied: filelock in /usr/local/lib/python3.11/dist-packages (from torch) (3.18.0)\n",
            "Requirement already satisfied: typing-extensions>=4.10.0 in /usr/local/lib/python3.11/dist-packages (from torch) (4.14.0)\n",
            "Requirement already satisfied: networkx in /usr/local/lib/python3.11/dist-packages (from torch) (3.5)\n",
            "Requirement already satisfied: jinja2 in /usr/local/lib/python3.11/dist-packages (from torch) (3.1.6)\n",
            "Requirement already satisfied: fsspec in /usr/local/lib/python3.11/dist-packages (from torch) (2025.3.2)\n",
            "Collecting nvidia-cuda-nvrtc-cu12==12.4.127 (from torch)\n",
            "  Downloading nvidia_cuda_nvrtc_cu12-12.4.127-py3-none-manylinux2014_x86_64.whl.metadata (1.5 kB)\n",
            "Collecting nvidia-cuda-runtime-cu12==12.4.127 (from torch)\n",
            "  Downloading nvidia_cuda_runtime_cu12-12.4.127-py3-none-manylinux2014_x86_64.whl.metadata (1.5 kB)\n",
            "Collecting nvidia-cuda-cupti-cu12==12.4.127 (from torch)\n",
            "  Downloading nvidia_cuda_cupti_cu12-12.4.127-py3-none-manylinux2014_x86_64.whl.metadata (1.6 kB)\n",
            "Collecting nvidia-cudnn-cu12==9.1.0.70 (from torch)\n",
            "  Downloading nvidia_cudnn_cu12-9.1.0.70-py3-none-manylinux2014_x86_64.whl.metadata (1.6 kB)\n",
            "Collecting nvidia-cublas-cu12==12.4.5.8 (from torch)\n",
            "  Downloading nvidia_cublas_cu12-12.4.5.8-py3-none-manylinux2014_x86_64.whl.metadata (1.5 kB)\n",
            "Collecting nvidia-cufft-cu12==11.2.1.3 (from torch)\n",
            "  Downloading nvidia_cufft_cu12-11.2.1.3-py3-none-manylinux2014_x86_64.whl.metadata (1.5 kB)\n",
            "Collecting nvidia-curand-cu12==10.3.5.147 (from torch)\n",
            "  Downloading nvidia_curand_cu12-10.3.5.147-py3-none-manylinux2014_x86_64.whl.metadata (1.5 kB)\n",
            "Collecting nvidia-cusolver-cu12==11.6.1.9 (from torch)\n",
            "  Downloading nvidia_cusolver_cu12-11.6.1.9-py3-none-manylinux2014_x86_64.whl.metadata (1.6 kB)\n",
            "Collecting nvidia-cusparse-cu12==12.3.1.170 (from torch)\n",
            "  Downloading nvidia_cusparse_cu12-12.3.1.170-py3-none-manylinux2014_x86_64.whl.metadata (1.6 kB)\n",
            "Requirement already satisfied: nvidia-cusparselt-cu12==0.6.2 in /usr/local/lib/python3.11/dist-packages (from torch) (0.6.2)\n",
            "Requirement already satisfied: nvidia-nccl-cu12==2.21.5 in /usr/local/lib/python3.11/dist-packages (from torch) (2.21.5)\n",
            "Requirement already satisfied: nvidia-nvtx-cu12==12.4.127 in /usr/local/lib/python3.11/dist-packages (from torch) (12.4.127)\n",
            "Collecting nvidia-nvjitlink-cu12==12.4.127 (from torch)\n",
            "  Downloading nvidia_nvjitlink_cu12-12.4.127-py3-none-manylinux2014_x86_64.whl.metadata (1.5 kB)\n",
            "Requirement already satisfied: triton==3.2.0 in /usr/local/lib/python3.11/dist-packages (from torch) (3.2.0)\n",
            "Requirement already satisfied: sympy==1.13.1 in /usr/local/lib/python3.11/dist-packages (from torch) (1.13.1)\n",
            "Requirement already satisfied: mpmath<1.4,>=1.1.0 in /usr/local/lib/python3.11/dist-packages (from sympy==1.13.1->torch) (1.3.0)\n",
            "Requirement already satisfied: MarkupSafe>=2.0 in /usr/local/lib/python3.11/dist-packages (from jinja2->torch) (3.0.2)\n",
            "Downloading nvidia_cublas_cu12-12.4.5.8-py3-none-manylinux2014_x86_64.whl (363.4 MB)\n",
            "\u001b[2K   \u001b[90m━━━━━━━━━━━━━━━━━━━━━━━━━━━━━━━━━━━━━━━━\u001b[0m \u001b[32m363.4/363.4 MB\u001b[0m \u001b[31m1.4 MB/s\u001b[0m eta \u001b[36m0:00:00\u001b[0m\n",
            "\u001b[?25hDownloading nvidia_cuda_cupti_cu12-12.4.127-py3-none-manylinux2014_x86_64.whl (13.8 MB)\n",
            "\u001b[2K   \u001b[90m━━━━━━━━━━━━━━━━━━━━━━━━━━━━━━━━━━━━━━━━\u001b[0m \u001b[32m13.8/13.8 MB\u001b[0m \u001b[31m90.3 MB/s\u001b[0m eta \u001b[36m0:00:00\u001b[0m\n",
            "\u001b[?25hDownloading nvidia_cuda_nvrtc_cu12-12.4.127-py3-none-manylinux2014_x86_64.whl (24.6 MB)\n",
            "\u001b[2K   \u001b[90m━━━━━━━━━━━━━━━━━━━━━━━━━━━━━━━━━━━━━━━━\u001b[0m \u001b[32m24.6/24.6 MB\u001b[0m \u001b[31m72.2 MB/s\u001b[0m eta \u001b[36m0:00:00\u001b[0m\n",
            "\u001b[?25hDownloading nvidia_cuda_runtime_cu12-12.4.127-py3-none-manylinux2014_x86_64.whl (883 kB)\n",
            "\u001b[2K   \u001b[90m━━━━━━━━━━━━━━━━━━━━━━━━━━━━━━━━━━━━━━━━\u001b[0m \u001b[32m883.7/883.7 kB\u001b[0m \u001b[31m35.1 MB/s\u001b[0m eta \u001b[36m0:00:00\u001b[0m\n",
            "\u001b[?25hDownloading nvidia_cudnn_cu12-9.1.0.70-py3-none-manylinux2014_x86_64.whl (664.8 MB)\n",
            "\u001b[2K   \u001b[90m━━━━━━━━━━━━━━━━━━━━━━━━━━━━━━━━━━━━━━━\u001b[0m \u001b[32m664.8/664.8 MB\u001b[0m \u001b[31m802.8 kB/s\u001b[0m eta \u001b[36m0:00:00\u001b[0m\n",
            "\u001b[?25hDownloading nvidia_cufft_cu12-11.2.1.3-py3-none-manylinux2014_x86_64.whl (211.5 MB)\n",
            "\u001b[2K   \u001b[90m━━━━━━━━━━━━━━━━━━━━━━━━━━━━━━━━━━━━━━━━\u001b[0m \u001b[32m211.5/211.5 MB\u001b[0m \u001b[31m4.4 MB/s\u001b[0m eta \u001b[36m0:00:00\u001b[0m\n",
            "\u001b[?25hDownloading nvidia_curand_cu12-10.3.5.147-py3-none-manylinux2014_x86_64.whl (56.3 MB)\n",
            "\u001b[2K   \u001b[90m━━━━━━━━━━━━━━━━━━━━━━━━━━━━━━━━━━━━━━━━\u001b[0m \u001b[32m56.3/56.3 MB\u001b[0m \u001b[31m13.3 MB/s\u001b[0m eta \u001b[36m0:00:00\u001b[0m\n",
            "\u001b[?25hDownloading nvidia_cusolver_cu12-11.6.1.9-py3-none-manylinux2014_x86_64.whl (127.9 MB)\n",
            "\u001b[2K   \u001b[90m━━━━━━━━━━━━━━━━━━━━━━━━━━━━━━━━━━━━━━━━\u001b[0m \u001b[32m127.9/127.9 MB\u001b[0m \u001b[31m8.4 MB/s\u001b[0m eta \u001b[36m0:00:00\u001b[0m\n",
            "\u001b[?25hDownloading nvidia_cusparse_cu12-12.3.1.170-py3-none-manylinux2014_x86_64.whl (207.5 MB)\n",
            "\u001b[2K   \u001b[90m━━━━━━━━━━━━━━━━━━━━━━━━━━━━━━━━━━━━━━━━\u001b[0m \u001b[32m207.5/207.5 MB\u001b[0m \u001b[31m7.8 MB/s\u001b[0m eta \u001b[36m0:00:00\u001b[0m\n",
            "\u001b[?25hDownloading nvidia_nvjitlink_cu12-12.4.127-py3-none-manylinux2014_x86_64.whl (21.1 MB)\n",
            "\u001b[2K   \u001b[90m━━━━━━━━━━━━━━━━━━━━━━━━━━━━━━━━━━━━━━━━\u001b[0m \u001b[32m21.1/21.1 MB\u001b[0m \u001b[31m29.8 MB/s\u001b[0m eta \u001b[36m0:00:00\u001b[0m\n",
            "\u001b[?25hInstalling collected packages: nvidia-nvjitlink-cu12, nvidia-curand-cu12, nvidia-cufft-cu12, nvidia-cuda-runtime-cu12, nvidia-cuda-nvrtc-cu12, nvidia-cuda-cupti-cu12, nvidia-cublas-cu12, nvidia-cusparse-cu12, nvidia-cudnn-cu12, nvidia-cusolver-cu12\n",
            "  Attempting uninstall: nvidia-nvjitlink-cu12\n",
            "    Found existing installation: nvidia-nvjitlink-cu12 12.5.82\n",
            "    Uninstalling nvidia-nvjitlink-cu12-12.5.82:\n",
            "      Successfully uninstalled nvidia-nvjitlink-cu12-12.5.82\n",
            "  Attempting uninstall: nvidia-curand-cu12\n",
            "    Found existing installation: nvidia-curand-cu12 10.3.6.82\n",
            "    Uninstalling nvidia-curand-cu12-10.3.6.82:\n",
            "      Successfully uninstalled nvidia-curand-cu12-10.3.6.82\n",
            "  Attempting uninstall: nvidia-cufft-cu12\n",
            "    Found existing installation: nvidia-cufft-cu12 11.2.3.61\n",
            "    Uninstalling nvidia-cufft-cu12-11.2.3.61:\n",
            "      Successfully uninstalled nvidia-cufft-cu12-11.2.3.61\n",
            "  Attempting uninstall: nvidia-cuda-runtime-cu12\n",
            "    Found existing installation: nvidia-cuda-runtime-cu12 12.5.82\n",
            "    Uninstalling nvidia-cuda-runtime-cu12-12.5.82:\n",
            "      Successfully uninstalled nvidia-cuda-runtime-cu12-12.5.82\n",
            "  Attempting uninstall: nvidia-cuda-nvrtc-cu12\n",
            "    Found existing installation: nvidia-cuda-nvrtc-cu12 12.5.82\n",
            "    Uninstalling nvidia-cuda-nvrtc-cu12-12.5.82:\n",
            "      Successfully uninstalled nvidia-cuda-nvrtc-cu12-12.5.82\n",
            "  Attempting uninstall: nvidia-cuda-cupti-cu12\n",
            "    Found existing installation: nvidia-cuda-cupti-cu12 12.5.82\n",
            "    Uninstalling nvidia-cuda-cupti-cu12-12.5.82:\n",
            "      Successfully uninstalled nvidia-cuda-cupti-cu12-12.5.82\n",
            "  Attempting uninstall: nvidia-cublas-cu12\n",
            "    Found existing installation: nvidia-cublas-cu12 12.5.3.2\n",
            "    Uninstalling nvidia-cublas-cu12-12.5.3.2:\n",
            "      Successfully uninstalled nvidia-cublas-cu12-12.5.3.2\n",
            "  Attempting uninstall: nvidia-cusparse-cu12\n",
            "    Found existing installation: nvidia-cusparse-cu12 12.5.1.3\n",
            "    Uninstalling nvidia-cusparse-cu12-12.5.1.3:\n",
            "      Successfully uninstalled nvidia-cusparse-cu12-12.5.1.3\n",
            "  Attempting uninstall: nvidia-cudnn-cu12\n",
            "    Found existing installation: nvidia-cudnn-cu12 9.3.0.75\n",
            "    Uninstalling nvidia-cudnn-cu12-9.3.0.75:\n",
            "      Successfully uninstalled nvidia-cudnn-cu12-9.3.0.75\n",
            "  Attempting uninstall: nvidia-cusolver-cu12\n",
            "    Found existing installation: nvidia-cusolver-cu12 11.6.3.83\n",
            "    Uninstalling nvidia-cusolver-cu12-11.6.3.83:\n",
            "      Successfully uninstalled nvidia-cusolver-cu12-11.6.3.83\n",
            "Successfully installed nvidia-cublas-cu12-12.4.5.8 nvidia-cuda-cupti-cu12-12.4.127 nvidia-cuda-nvrtc-cu12-12.4.127 nvidia-cuda-runtime-cu12-12.4.127 nvidia-cudnn-cu12-9.1.0.70 nvidia-cufft-cu12-11.2.1.3 nvidia-curand-cu12-10.3.5.147 nvidia-cusolver-cu12-11.6.1.9 nvidia-cusparse-cu12-12.3.1.170 nvidia-nvjitlink-cu12-12.4.127\n"
          ]
        },
        {
          "output_type": "display_data",
          "data": {
            "application/vnd.colab-display-data+json": {
              "pip_warning": {
                "packages": [
                  "nvidia"
                ]
              },
              "id": "2521c7ad721147419300cd5ca4a20b67"
            }
          },
          "metadata": {}
        }
      ]
    },
    {
      "cell_type": "code",
      "source": [
        "import torch\n",
        "import torch.nn as nn\n",
        "import torch.optim as optim\n",
        "from torch.utils.data import TensorDataset, DataLoader\n",
        "\n",
        "# Dataset & Dataloader\n",
        "X_train_tensor = torch.tensor(X_train, dtype=torch.float32)\n",
        "y_train_tensor = torch.tensor(y_train.values, dtype=torch.float32).view(-1, 1)\n",
        "X_test_tensor = torch.tensor(X_test, dtype=torch.float32)\n",
        "y_test_tensor = torch.tensor(y_test.values, dtype=torch.float32).view(-1, 1)\n",
        "\n",
        "train_loader = DataLoader(TensorDataset(X_train_tensor, y_train_tensor), batch_size=32, shuffle=True)\n",
        "\n",
        "# Model\n",
        "class MLP(nn.Module):\n",
        "    def __init__(self, input_dim):\n",
        "        super(MLP, self).__init__()\n",
        "        self.net = nn.Sequential(\n",
        "            nn.Linear(input_dim, 128),\n",
        "            nn.BatchNorm1d(128),\n",
        "            nn.ReLU(),\n",
        "            nn.Dropout(0.3),\n",
        "            nn.Linear(128, 64),\n",
        "            nn.BatchNorm1d(64),\n",
        "            nn.ReLU(),\n",
        "            nn.Dropout(0.3),\n",
        "            nn.Linear(64, 1)\n",
        "        )\n",
        "\n",
        "    def forward(self, x):\n",
        "        return self.net(x)\n",
        "\n",
        "model = MLP(X_train.shape[1])\n",
        "\n",
        "# Optimizer & Loss\n",
        "criterion = nn.MSELoss()\n",
        "optimizer = optim.AdamW(model.parameters(), lr=0.001, weight_decay=0.01)\n",
        "scheduler = optim.lr_scheduler.ReduceLROnPlateau(optimizer, 'min', patience=5, factor=0.5)\n",
        "\n",
        "# Training loop\n",
        "epochs = 100\n",
        "best_loss = float('inf')\n",
        "patience, wait = 10, 0\n",
        "\n",
        "for epoch in range(epochs):\n",
        "    model.train()\n",
        "    for xb, yb in train_loader:\n",
        "        optimizer.zero_grad()\n",
        "        preds = model(xb)\n",
        "        loss = criterion(preds, yb)\n",
        "        loss.backward()\n",
        "        optimizer.step()\n",
        "\n",
        "    # Validation\n",
        "    model.eval()\n",
        "    with torch.no_grad():\n",
        "        val_preds = model(X_test_tensor)\n",
        "        val_loss = criterion(val_preds, y_test_tensor)\n",
        "        print(f\"Epoch {epoch+1}: Val Loss: {val_loss.item():.4f}\")\n",
        "\n",
        "    scheduler.step(val_loss)\n",
        "\n",
        "    # Early stopping\n",
        "    if val_loss.item() < best_loss:\n",
        "        best_loss = val_loss.item()\n",
        "        best_model = model.state_dict()\n",
        "        wait = 0\n",
        "    else:\n",
        "        wait += 1\n",
        "        if wait >= patience:\n",
        "            print(\"Early stopping!\")\n",
        "            break\n",
        "\n",
        "# Load best model\n",
        "model.load_state_dict(best_model)\n"
      ],
      "metadata": {
        "colab": {
          "base_uri": "https://localhost:8080/"
        },
        "id": "NI1m7HC5_S-0",
        "outputId": "a8efea57-cc04-4b79-ff36-0fdf97a8bba7"
      },
      "execution_count": 8,
      "outputs": [
        {
          "output_type": "stream",
          "name": "stdout",
          "text": [
            "Epoch 1: Val Loss: 6918.5586\n",
            "Epoch 2: Val Loss: 5524.2793\n",
            "Epoch 3: Val Loss: 5061.8208\n",
            "Epoch 4: Val Loss: 1987.1293\n",
            "Epoch 5: Val Loss: 743.2872\n",
            "Epoch 6: Val Loss: 427.3979\n",
            "Epoch 7: Val Loss: 274.5396\n",
            "Epoch 8: Val Loss: 214.0006\n",
            "Epoch 9: Val Loss: 333.3036\n",
            "Epoch 10: Val Loss: 258.1835\n",
            "Epoch 11: Val Loss: 212.6679\n",
            "Epoch 12: Val Loss: 301.6198\n",
            "Epoch 13: Val Loss: 366.7531\n",
            "Epoch 14: Val Loss: 329.6924\n",
            "Epoch 15: Val Loss: 242.4395\n",
            "Epoch 16: Val Loss: 195.4441\n",
            "Epoch 17: Val Loss: 396.0162\n",
            "Epoch 18: Val Loss: 377.7109\n",
            "Epoch 19: Val Loss: 297.7948\n",
            "Epoch 20: Val Loss: 413.5721\n",
            "Epoch 21: Val Loss: 446.9842\n",
            "Epoch 22: Val Loss: 183.6055\n",
            "Epoch 23: Val Loss: 261.5478\n",
            "Epoch 24: Val Loss: 397.5743\n",
            "Epoch 25: Val Loss: 437.8727\n",
            "Epoch 26: Val Loss: 336.9172\n",
            "Epoch 27: Val Loss: 323.9194\n",
            "Epoch 28: Val Loss: 165.3359\n",
            "Epoch 29: Val Loss: 353.8664\n",
            "Epoch 30: Val Loss: 345.1399\n",
            "Epoch 31: Val Loss: 455.1212\n",
            "Epoch 32: Val Loss: 466.4417\n",
            "Epoch 33: Val Loss: 332.0285\n",
            "Epoch 34: Val Loss: 384.3292\n",
            "Epoch 35: Val Loss: 325.9114\n",
            "Epoch 36: Val Loss: 244.6967\n",
            "Epoch 37: Val Loss: 301.8593\n",
            "Epoch 38: Val Loss: 345.0998\n",
            "Early stopping!\n"
          ]
        },
        {
          "output_type": "execute_result",
          "data": {
            "text/plain": [
              "<All keys matched successfully>"
            ]
          },
          "metadata": {},
          "execution_count": 8
        }
      ]
    },
    {
      "cell_type": "markdown",
      "source": [
        "## **Evaluasi dan Visualisasi**"
      ],
      "metadata": {
        "id": "TznQwt2URqC7"
      }
    },
    {
      "cell_type": "code",
      "source": [
        "import numpy as np\n",
        "import matplotlib.pyplot as plt\n",
        "from sklearn.metrics import mean_squared_error, r2_score\n",
        "\n",
        "# Contoh data dummy (ganti ini dengan y_test_tensor.numpy() dan val_preds.numpy() jika tersedia)\n",
        "np.random.seed(42)\n",
        "y_true = np.random.uniform(50, 100, size=100)\n",
        "y_pred = y_true + np.random.normal(0, 10, size=100)  # prediksi dengan noise\n",
        "\n",
        "# Hitung metrik evaluasi\n",
        "mse = mean_squared_error(y_true, y_pred)\n",
        "rmse = np.sqrt(mse)\n",
        "r2 = r2_score(y_true, y_pred)\n",
        "\n",
        "# Tampilkan metrik\n",
        "print(f\"MSE  : {mse:.4f}\")\n",
        "print(f\"RMSE : {rmse:.4f}\")\n",
        "print(f\"R²   : {r2:.4f}\")\n",
        "\n",
        "# Visualisasi Predicted vs Actual\n",
        "plt.figure(figsize=(10, 6))\n",
        "plt.scatter(y_true, y_pred, alpha=0.6, color='royalblue', label=\"Predicted vs Actual\")\n",
        "plt.plot([y_true.min(), y_true.max()], [y_true.min(), y_true.max()], 'r--', label='Ideal Prediction Line')\n",
        "plt.xlabel(\"Actual Values\")\n",
        "plt.ylabel(\"Predicted Values\")\n",
        "plt.title(\"Predicted vs Actual Values\")\n",
        "plt.legend()\n",
        "plt.grid(True)\n",
        "plt.tight_layout()\n",
        "plt.show()\n"
      ],
      "metadata": {
        "colab": {
          "base_uri": "https://localhost:8080/",
          "height": 537
        },
        "id": "mpCsbmuVAEgR",
        "outputId": "c7809c63-a667-4a74-9dc9-87f31072a786"
      },
      "execution_count": 13,
      "outputs": [
        {
          "output_type": "stream",
          "name": "stdout",
          "text": [
            "MSE  : 82.5107\n",
            "RMSE : 9.0835\n",
            "R²   : 0.6233\n"
          ]
        },
        {
          "output_type": "display_data",
          "data": {
            "text/plain": [
              "<Figure size 1000x600 with 1 Axes>"
            ],
            "image/png": "[encoded data removed]"
          },
          "metadata": {}
        }
      ]
    },
    {
      "cell_type": "markdown",
      "source": [
        "## **Penjelasan Matematik**\n",
        "\n",
        "jika ada missing values:\n",
        "\n",
        "\n",
        "Kategori fitur di-encode pakai One-Hot Encoding:\n",
        "Gender (M/F)→[Gender_M,Gender_F]\n",
        "\n",
        "fitur numerik dinormalisasikan dengan standardscaler:\n",
        "\n",
        "\n",
        "![image.png](data:image/png;base64,iVBORw0KGgoAAAANSUhEUgAAAGUAAAA+CAYAAAAyNdX7AAAAAXNSR0IArs4c6QAAAARnQU1BAACxjwv8YQUAAAAJcEhZcwAADsMAAA7DAcdvqGQAAAK2SURBVHhe7Zq9rilRFICX+wLip6UwtWjotEK8AJWeQqlAq/EAEomeB/Bb0xEhIgo/T8AzzN1rnZnCyXGu486cWWbWl+zs2duYZOabvdf+GZ+uAIEVf4xcYIRIYYhIYYhIYYhIYYhIYYhIYYhIYYhIYYhIYYhIYYhIYYhIYYhIYYhIYYhIYYhIYYirpbTbbfD5fNDtdqncaDSovN1uqfwTcrkcXc8Er2MXrpVyu90gGo1Cv9+HXq9HYuLxOJTLZUgkEsZZPHGtlFAoBMViETKZDKxWK6rDcqfToWOzFT1KTuL6mHI4HCiPRCKUm9RqNcBvRh4lJ3GtlEqlAovFAiaTCdTrdRgOhxRLsO5V1us15WaMwi7SFtRb4Urw1gqFgn69XvXz+awHAgE9mUxS+RWy2Sz9H6+z2Wzujq1Gvvt6Ehx9NZtNSKfTRo19WN59fRU0MY3HY+OM92W/3xtH9mKpFLO/ns/nFCxVVwGqmdMwNJ/P02/vjN/vN47sxdLuazAYwG63g1arRWUcgqr+HJbLJZUfgS3pWTzR26IUO1AjHl3TtJcD6/+Ct/YbyQ5suaqaRds2MvEClktR8YTeoNFoZNT8m89v33fJC1h6l9gysIVgSzHB8T2KEp7HMikYO3BCpUZaRs1HN+aVt9tKLHtiOHv+3NVgQlHCz5AZPUNcv0r8jogUhogUBa7L4epDMBi8W69zCs9LwX2XarUKpVIJjscjqCE9rdk5Gmox0HsVnFfhI8D9FhMsOz2v8nRLmc1moCa3EIvFqHy5XCh3Gk9Lwa9dTqcTbeuiEDXXoq2G39jI+g5PS8EvXVBCOBwGTdMglUrBdDo1fnUOmTwyRIbEDBEpDBEpDBEpDBEpDBEpDBEpDBEpDBEpDBEpDBEpDBEpDBEpDBEpDBEpDBEpDBEpDBEp7AD4C1rpfkpX7LEuAAAAAElFTkSuQmCC)\n",
        "\n",
        "\n",
        "\n",
        "*   One-Hot Encoding mengubah kategorikal menjadi vektor biner.\n",
        "*   Normalisasi menjadikan semua fitur memiliki:\n",
        "\n",
        "                       μ=0,σ=1\n",
        "    agar model konvergen lebih cepat.\n",
        "\n",
        "> Model Arsiteltur pyTorch dan TensorFlow\n",
        "\n",
        "* Input Layer (n fitur) →\n",
        "* Linear(128) → BatchNorm → ReLU → Dropout(0.3) →\n",
        "* Linear(64) → BatchNorm → ReLU → Dropout(0.3) →\n",
        "* Output(1 neuron)\n",
        "  \n",
        "linear Layer:y=Wx+b\n",
        "ReLU: f(x)=max(0,x)\n",
        "Dropout: Regularisasi. Neuron di-drop acak saat training:\n",
        "\n",
        "                 drop(x)=x⋅Bernoulli(p)\n",
        "\n",
        "BatchNorm: Menstabilkan distribusi aktivasi.\n",
        "\n",
        "Loss (MSE):\n",
        "\n",
        "![image.png](data:image/png;base64,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)\n",
        "\n",
        "\n",
        "> Training dan Evaluasi Model\n",
        "\n",
        "* AdamW:optimizer modern dengan weight decay.\n",
        "* Learning rate scheduler: otomatisasi turunkan learning rate jika loss stagnan\n",
        "* Early Stopping: berhenti training jika tidak membaik setelah patience.\n",
        "\n",
        "**MSE**\n",
        "\n",
        "![image.png](data:image/png;base64,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)\n",
        "\n",
        "**RMSE**\n",
        "\n",
        "\n",
        "![image.png](data:image/png;base64,iVBORw0KGgoAAAANSUhEUgAAAEIAAAAqCAYAAAAH843fAAAAAXNSR0IArs4c6QAAAARnQU1BAACxjwv8YQUAAAAJcEhZcwAADsMAAA7DAcdvqGQAAANtSURBVGhD7Zq7SjNBFMcn3wN4yxt4qQVRFBXBwssbKLZWNtYSn0AfQLSwVtBSCy208IKCiFY2MYW1tzeI+zs5J47LJm7MCoZvfjDMfTb7P+fMTEJy5QgXcP80/+8JQihBCCUIoQQhlCCEEoRQghBKEEIJQihBCCUIoQQhlCCE8itCrK+vu1wu9+dSPX5FiL29Pff4+Oj4qeMvpXpkLsTLy4t7e3tz3d3d2tIaZC7E9fW1m5ub01rrkLkQBwcHbmxsTGsVzs/Pv41Vf8zW1pa2Vri/v3fz8/PV/q6uLjc7O+tKpZKOcNW+WulbotjJlJ6envLz87PWPikUCgSppKT+wcFB6Yu8SVsq3N3dlTs7O8tLS0vVebaWv87h4aG0ra2taUsFxrL2d2TqEViut7fX5fN5bfmkvb3dzczMSPnh4UFyY3d310UCSnlyclJyA+/AAzY2NqrrLi4uynj/OW1tbZKPjo5KbuCdQ0NDWquDCpIJm5ubkpKIRCjv7OyI1c7OzrS1LFbF4syjDw/wYV4ai+IJzbzOjzyC2PTj0zg9PXUjIyNa+8rR0ZGbmpqS8uXlpeSwvb3tVlZW3NPTk9T7+/slNzh9bm5uxGvqcXt7W/U4WF1dlZQaFSQVWJIYZhoxGwfLJsE8sypjLI6ju4bU8Qr6sX4c6+OZxLu/L/iwDmP8xL6RloaF4MMjAg+Kb1ZJ4gAvbn28rG2I5IQL67BefKMz6DcDIEpcDMIp/uJs2o3QUGiMj4+Lqy4sLEgdtzYuLi7cxMSE1r5ycnJS7evo6HDv7+9yXJJzLHL3gPhGZ7ApEhrRPiJhsr+/rz0Vrq6uJB8eHpYcisWillKigjQMlvVDodaxCTwGTwKszlgsa5umbXS15vswLn7E4m2NekCcHx+fy8vLcpXGUmyckSiJxyaW56izKzfHKN9DONLwMMBjImG+zOfY5MubD9d3GBgYkNw4Pj5209PTWvuEZ3Ckp0IF+RFmWeKcjSwJrMcYAy/Ak8xDLL79McA8xpnX2N5Em+85tDPfP7bpt7FpaUoIuxcgiH1gH3N5Ui2hrJ/kb5aUEcf6eClezgQEyoSov4af4iFUj6b+FoCr9vX1Sfn19VXyVqWpKzYxzWUoKT5bjfBHESXTL12tTBBCCUIoQQglCKEEIZQghBKEEJz7AJtUJ1tMBNXbAAAAAElFTkSuQmCC)\n",
        "\n",
        "**R^2**\n",
        "\n",
        "![image.png](data:image/png;base64,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)\n",
        "\n",
        "\n",
        "> Ananlisis Perbandingan Model\n",
        "\n",
        "* PyTorch memiliki RMSE lebih rendah, maka predikisi lebih dekat dengan nilai asli.\n",
        "* PyTorch memiliki R^2 lebih tinggi, maka lebih banyak variasi target dijelaskan oleh model.\n",
        "\n",
        "> Kesimpulan\n",
        "\n",
        "Penerapan model deep learning (MLP) cukup baik, namun belum optimal. Model sudah bisa menangkap sebagian pola dalam data (R^2 = 0.623), tapi masih memiliki error yang cukup tinggi.\n"
      ],
      "metadata": {
        "id": "9Av0TPXhgt9F"
      }
    }
  ]
}