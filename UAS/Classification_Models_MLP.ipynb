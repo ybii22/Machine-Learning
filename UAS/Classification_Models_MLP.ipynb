{
  "nbformat": 4,
  "nbformat_minor": 0,
  "metadata": {
    "colab": {
      "provenance": [],
      "authorship_tag": "ABX9TyMmd8ozLcMcbrHUIqGrcxxF",
      "include_colab_link": true
    },
    "kernelspec": {
      "name": "python3",
      "display_name": "Python 3"
    },
    "language_info": {
      "name": "python"
    }
  },
  "cells": [
    {
      "cell_type": "markdown",
      "metadata": {
        "id": "view-in-github",
        "colab_type": "text"
      },
      "source": [
        "<a href=\"https://colab.research.google.com/github/ybii22/Machine-Learning/blob/main/UAS/Classification_Models_MLP.ipynb\" target=\"_parent\"><img src=\"https://colab.research.google.com/assets/colab-badge.svg\" alt=\"Open In Colab\"/></a>"
      ]
    },
    {
      "cell_type": "code",
      "execution_count": null,
      "metadata": {
        "id": "62M5uuz_QQWX",
        "colab": {
          "base_uri": "https://localhost:8080/"
        },
        "outputId": "32430e8e-afdd-4bdb-b072-cbd1bb6197d5"
      },
      "outputs": [
        {
          "output_type": "stream",
          "name": "stdout",
          "text": [
            "Requirement already satisfied: gdown in /usr/local/lib/python3.11/dist-packages (5.2.0)\n",
            "Requirement already satisfied: pandas in /usr/local/lib/python3.11/dist-packages (2.2.2)\n",
            "Requirement already satisfied: beautifulsoup4 in /usr/local/lib/python3.11/dist-packages (from gdown) (4.13.4)\n",
            "Requirement already satisfied: filelock in /usr/local/lib/python3.11/dist-packages (from gdown) (3.18.0)\n",
            "Requirement already satisfied: requests[socks] in /usr/local/lib/python3.11/dist-packages (from gdown) (2.32.3)\n",
            "Requirement already satisfied: tqdm in /usr/local/lib/python3.11/dist-packages (from gdown) (4.67.1)\n",
            "Requirement already satisfied: numpy>=1.23.2 in /usr/local/lib/python3.11/dist-packages (from pandas) (2.0.2)\n",
            "Requirement already satisfied: python-dateutil>=2.8.2 in /usr/local/lib/python3.11/dist-packages (from pandas) (2.9.0.post0)\n",
            "Requirement already satisfied: pytz>=2020.1 in /usr/local/lib/python3.11/dist-packages (from pandas) (2025.2)\n",
            "Requirement already satisfied: tzdata>=2022.7 in /usr/local/lib/python3.11/dist-packages (from pandas) (2025.2)\n",
            "Requirement already satisfied: six>=1.5 in /usr/local/lib/python3.11/dist-packages (from python-dateutil>=2.8.2->pandas) (1.17.0)\n",
            "Requirement already satisfied: soupsieve>1.2 in /usr/local/lib/python3.11/dist-packages (from beautifulsoup4->gdown) (2.7)\n",
            "Requirement already satisfied: typing-extensions>=4.0.0 in /usr/local/lib/python3.11/dist-packages (from beautifulsoup4->gdown) (4.14.0)\n",
            "Requirement already satisfied: charset-normalizer<4,>=2 in /usr/local/lib/python3.11/dist-packages (from requests[socks]->gdown) (3.4.2)\n",
            "Requirement already satisfied: idna<4,>=2.5 in /usr/local/lib/python3.11/dist-packages (from requests[socks]->gdown) (3.10)\n",
            "Requirement already satisfied: urllib3<3,>=1.21.1 in /usr/local/lib/python3.11/dist-packages (from requests[socks]->gdown) (2.4.0)\n",
            "Requirement already satisfied: certifi>=2017.4.17 in /usr/local/lib/python3.11/dist-packages (from requests[socks]->gdown) (2025.4.26)\n",
            "Requirement already satisfied: PySocks!=1.5.7,>=1.5.6 in /usr/local/lib/python3.11/dist-packages (from requests[socks]->gdown) (1.7.1)\n"
          ]
        },
        {
          "output_type": "stream",
          "name": "stderr",
          "text": [
            "Downloading...\n",
            "From (original): https://drive.google.com/uc?id=1wplbZ_1B4H46YvJ4MVqFiaILpvhQojBV\n",
            "From (redirected): https://drive.google.com/uc?id=1wplbZ_1B4H46YvJ4MVqFiaILpvhQojBV&confirm=t&uuid=07fc9186-47f5-42fd-8726-eef573b6afdf\n",
            "To: /content/data.csv\n",
            "100%|██████████| 151M/151M [00:02<00:00, 65.0MB/s]\n"
          ]
        },
        {
          "output_type": "stream",
          "name": "stdout",
          "text": [
            "   Time        V1        V2        V3        V4        V5        V6        V7  \\\n",
            "0   0.0 -1.359807 -0.072781  2.536347  1.378155 -0.338321  0.462388  0.239599   \n",
            "1   0.0  1.191857  0.266151  0.166480  0.448154  0.060018 -0.082361 -0.078803   \n",
            "2   1.0 -1.358354 -1.340163  1.773209  0.379780 -0.503198  1.800499  0.791461   \n",
            "3   1.0 -0.966272 -0.185226  1.792993 -0.863291 -0.010309  1.247203  0.237609   \n",
            "4   2.0 -1.158233  0.877737  1.548718  0.403034 -0.407193  0.095921  0.592941   \n",
            "\n",
            "         V8        V9  ...       V21       V22       V23       V24       V25  \\\n",
            "0  0.098698  0.363787  ... -0.018307  0.277838 -0.110474  0.066928  0.128539   \n",
            "1  0.085102 -0.255425  ... -0.225775 -0.638672  0.101288 -0.339846  0.167170   \n",
            "2  0.247676 -1.514654  ...  0.247998  0.771679  0.909412 -0.689281 -0.327642   \n",
            "3  0.377436 -1.387024  ... -0.108300  0.005274 -0.190321 -1.175575  0.647376   \n",
            "4 -0.270533  0.817739  ... -0.009431  0.798278 -0.137458  0.141267 -0.206010   \n",
            "\n",
            "        V26       V27       V28  Amount  Class  \n",
            "0 -0.189115  0.133558 -0.021053  149.62      0  \n",
            "1  0.125895 -0.008983  0.014724    2.69      0  \n",
            "2 -0.139097 -0.055353 -0.059752  378.66      0  \n",
            "3 -0.221929  0.062723  0.061458  123.50      0  \n",
            "4  0.502292  0.219422  0.215153   69.99      0  \n",
            "\n",
            "[5 rows x 31 columns]\n",
            "Target kolom: Class\n",
            "Missing value per kolom:\n",
            "Time      0\n",
            "V1        0\n",
            "V2        0\n",
            "V3        0\n",
            "V4        0\n",
            "V5        0\n",
            "V6        0\n",
            "V7        0\n",
            "V8        0\n",
            "V9        0\n",
            "V10       0\n",
            "V11       0\n",
            "V12       0\n",
            "V13       0\n",
            "V14       0\n",
            "V15       0\n",
            "V16       0\n",
            "V17       0\n",
            "V18       0\n",
            "V19       0\n",
            "V20       0\n",
            "V21       0\n",
            "V22       0\n",
            "V23       0\n",
            "V24       0\n",
            "V25       0\n",
            "V26       0\n",
            "V27       0\n",
            "V28       0\n",
            "Amount    0\n",
            "Class     0\n",
            "dtype: int64\n",
            "\n",
            "Ukuran data setelah dibersihkan: (284807, 31)\n",
            "\n",
            "Contoh fitur:\n",
            "   Time        V1        V2        V3        V4        V5        V6        V7  \\\n",
            "0   0.0 -1.359807 -0.072781  2.536347  1.378155 -0.338321  0.462388  0.239599   \n",
            "1   0.0  1.191857  0.266151  0.166480  0.448154  0.060018 -0.082361 -0.078803   \n",
            "2   1.0 -1.358354 -1.340163  1.773209  0.379780 -0.503198  1.800499  0.791461   \n",
            "3   1.0 -0.966272 -0.185226  1.792993 -0.863291 -0.010309  1.247203  0.237609   \n",
            "4   2.0 -1.158233  0.877737  1.548718  0.403034 -0.407193  0.095921  0.592941   \n",
            "\n",
            "         V8        V9  ...       V20       V21       V22       V23       V24  \\\n",
            "0  0.098698  0.363787  ...  0.251412 -0.018307  0.277838 -0.110474  0.066928   \n",
            "1  0.085102 -0.255425  ... -0.069083 -0.225775 -0.638672  0.101288 -0.339846   \n",
            "2  0.247676 -1.514654  ...  0.524980  0.247998  0.771679  0.909412 -0.689281   \n",
            "3  0.377436 -1.387024  ... -0.208038 -0.108300  0.005274 -0.190321 -1.175575   \n",
            "4 -0.270533  0.817739  ...  0.408542 -0.009431  0.798278 -0.137458  0.141267   \n",
            "\n",
            "        V25       V26       V27       V28  Amount  \n",
            "0  0.128539 -0.189115  0.133558 -0.021053  149.62  \n",
            "1  0.167170  0.125895 -0.008983  0.014724    2.69  \n",
            "2 -0.327642 -0.139097 -0.055353 -0.059752  378.66  \n",
            "3  0.647376 -0.221929  0.062723  0.061458  123.50  \n",
            "4 -0.206010  0.502292  0.219422  0.215153   69.99  \n",
            "\n",
            "[5 rows x 30 columns]\n",
            "\n",
            "Contoh target:\n",
            "0    0\n",
            "1    0\n",
            "2    0\n",
            "3    0\n",
            "4    0\n",
            "Name: Class, dtype: int64\n"
          ]
        }
      ],
      "source": [
        "!pip install gdown pandas\n",
        "\n",
        "import pandas as pd\n",
        "import gdown\n",
        "\n",
        "# Ubah URL ke format gdown\n",
        "url = 'https://drive.google.com/uc?id=1wplbZ_1B4H46YvJ4MVqFiaILpvhQojBV'\n",
        "output = 'data.csv'\n",
        "\n",
        "gdown.download(url, output, quiet=False)\n",
        "\n",
        "# Load file CSV\n",
        "df = pd.read_csv('data.csv')\n",
        "\n",
        "# Tampilkan beberapa baris awal\n",
        "print(df.head())\n",
        "\n",
        "# Cari kolom bertipe int (target berada di kolom pertama int)\n",
        "target_column = df.select_dtypes(include='int64').columns[0]\n",
        "print(\"Target kolom:\", target_column)\n",
        "\n",
        "# Cek jumlah missing values\n",
        "print(\"Missing value per kolom:\")\n",
        "print(df.isnull().sum())\n",
        "\n",
        "# Drop baris yang mengandung missing values\n",
        "df_cleaned = df.dropna().reset_index(drop=True)\n",
        "\n",
        "print(\"\\nUkuran data setelah dibersihkan:\", df_cleaned.shape)\n",
        "\n",
        "# Pisahkan fitur dan target\n",
        "X = df_cleaned.drop(columns=[target_column])\n",
        "y = df_cleaned[target_column]\n",
        "\n",
        "print(\"\\nContoh fitur:\")\n",
        "print(X.head())\n",
        "\n",
        "print(\"\\nContoh target:\")\n",
        "print(y.head())\n"
      ]
    },
    {
      "cell_type": "markdown",
      "source": [
        "## **Feature Engineering**"
      ],
      "metadata": {
        "id": "8YXLFDtrZ5ao"
      }
    },
    {
      "cell_type": "code",
      "source": [
        "# Kolom kategorikal: bertipe object\n",
        "categorical_cols = X.select_dtypes(include='object').columns.tolist()\n",
        "\n",
        "# Kolom numerik: bertipe int atau float\n",
        "numeric_cols = X.select_dtypes(include=['int64', 'float64']).columns.tolist()\n",
        "\n",
        "print(\"Kolom kategorikal:\", categorical_cols)\n",
        "print(\"Kolom numerik:\", numeric_cols)\n",
        "\n",
        "# One-hot encoding dengan drop_first untuk menghindari dummy trap\n",
        "X_encoded = pd.get_dummies(X, columns=categorical_cols, drop_first=True)\n",
        "\n",
        "print(\"Ukuran data setelah encoding:\", X_encoded.shape)\n",
        "\n",
        "from sklearn.preprocessing import StandardScaler\n",
        "\n",
        "# Buat objek scaler\n",
        "scaler = StandardScaler()\n",
        "\n",
        "# Normalisasi hanya pada fitur hasil encoding (semua fitur setelah one-hot akan jadi numerik)\n",
        "X_scaled = scaler.fit_transform(X_encoded)\n",
        "\n",
        "print(\"Contoh data setelah normalisasi:\")\n",
        "print(X_scaled[:5])\n",
        "from sklearn.model_selection import train_test_split\n",
        "\n",
        "# Split data 80% train - 20% test\n",
        "X_train, X_test, y_train, y_test = train_test_split(\n",
        "    X_scaled, y, test_size=0.2, random_state=42\n",
        ")\n",
        "\n",
        "print(\"Ukuran X_train:\", X_train.shape)\n",
        "print(\"Ukuran X_test:\", X_test.shape)\n"
      ],
      "metadata": {
        "colab": {
          "base_uri": "https://localhost:8080/"
        },
        "id": "yUMP6-ZZZx8q",
        "outputId": "f9a63aff-1f99-4ddd-a796-9bbbecee0d11"
      },
      "execution_count": null,
      "outputs": [
        {
          "output_type": "stream",
          "name": "stdout",
          "text": [
            "Kolom kategorikal: []\n",
            "Kolom numerik: ['Time', 'V1', 'V2', 'V3', 'V4', 'V5', 'V6', 'V7', 'V8', 'V9', 'V10', 'V11', 'V12', 'V13', 'V14', 'V15', 'V16', 'V17', 'V18', 'V19', 'V20', 'V21', 'V22', 'V23', 'V24', 'V25', 'V26', 'V27', 'V28', 'Amount']\n",
            "Ukuran data setelah encoding: (284807, 30)\n",
            "Contoh data setelah normalisasi:\n",
            "[[-1.99658302 -0.69424232 -0.04407492  1.6727735   0.97336551 -0.24511658\n",
            "   0.34706795  0.19367894  0.08263728  0.33112778  0.08338555 -0.54040704\n",
            "  -0.61829572 -0.99609892 -0.32461019  1.60401384 -0.53683287  0.24486345\n",
            "   0.03076993  0.49628203  0.32611802 -0.02492336  0.38285444 -0.17691133\n",
            "   0.11050692  0.24658544 -0.39217043  0.33089162 -0.06378115  0.24496426]\n",
            " [-1.99658302  0.60849633  0.16117592  0.1097971   0.31652293  0.04348335\n",
            "  -0.06181997 -0.06370021  0.07125348 -0.23249419 -0.15334963  1.58000285\n",
            "   1.06608857  0.4914182  -0.14998248  0.69436042  0.52943375 -0.13516997\n",
            "  -0.21876258 -0.17908605 -0.08961086 -0.3073768  -0.88007675  0.16220118\n",
            "  -0.56113055  0.3206939   0.26106948 -0.02225568  0.04460752 -0.34247454]\n",
            " [-1.99656197 -0.69350046 -0.81157783  1.16946849  0.26823129 -0.36457179\n",
            "   1.35145359  0.63977564  0.20737273 -1.37867535  0.19069961  0.61182971\n",
            "   0.06613662  0.72069985 -0.17311389  2.56290618 -3.29823537  1.30686788\n",
            "  -0.14478999 -2.77856085  0.68097497  0.3376317   1.06335827  1.45631975\n",
            "  -1.13809214 -0.62853672 -0.28844675 -0.13713686 -0.18102083  1.16068593]\n",
            " [-1.99656197 -0.4933249  -0.11216942  1.18251645 -0.60972664 -0.00746888\n",
            "   0.93614983  0.19207064  0.3160176  -1.26250317 -0.05046795 -0.22189161\n",
            "   0.17837099  0.5101687  -0.30036049 -0.68983741 -1.20929599 -0.80544464\n",
            "   2.34530452 -1.51420492 -0.26985523 -0.1474433   0.00726691 -0.30477655\n",
            "  -1.94102714  1.24190371 -0.46021734  0.15539621  0.18618859  0.14053425]\n",
            " [-1.99654091 -0.59132976  0.53154105  1.02141168  0.2846554  -0.29501544\n",
            "   0.07199858  0.47930228 -0.22651023  0.74432629  0.69162503 -0.80614659\n",
            "   0.53862665  1.35224435 -1.16803351  0.19132347 -0.51520512 -0.27908079\n",
            "  -0.045569    0.9870373   0.52993879 -0.01283922  1.10001127 -0.2201234\n",
            "   0.23325009 -0.39520164  1.0416113   0.5436198   0.65181592 -0.07340334]]\n",
            "Ukuran X_train: (227845, 30)\n",
            "Ukuran X_test: (56962, 30)\n"
          ]
        }
      ]
    },
    {
      "cell_type": "markdown",
      "source": [
        "## **MLP**"
      ],
      "metadata": {
        "id": "RVO14O4ZaOs6"
      }
    },
    {
      "cell_type": "markdown",
      "source": [
        "### **TensorFlow**"
      ],
      "metadata": {
        "id": "q46g1BwRaSnE"
      }
    },
    {
      "cell_type": "code",
      "source": [
        "import tensorflow as tf\n",
        "from tensorflow.keras import layers, models, callbacks, optimizers\n",
        "\n",
        "# Input shape\n",
        "input_dim = X_train.shape[1]\n",
        "\n",
        "# Model\n",
        "model_tf = models.Sequential([\n",
        "    layers.Dense(128, input_dim=input_dim),\n",
        "    layers.BatchNormalization(),\n",
        "    layers.ReLU(),\n",
        "    layers.Dropout(0.3),\n",
        "\n",
        "    layers.Dense(64),\n",
        "    layers.BatchNormalization(),\n",
        "    layers.ReLU(),\n",
        "    layers.Dropout(0.3),\n",
        "\n",
        "    layers.Dense(1)  # regresi -> output 1 nilai\n",
        "])\n",
        "\n",
        "# Optimizer dengan L2 regularization (weight decay)\n",
        "optimizer = optimizers.Adam(learning_rate=0.001)\n",
        "\n",
        "# Compile\n",
        "model_tf.compile(optimizer=optimizer, loss='mse')\n",
        "\n",
        "# Early stopping\n",
        "early_stop = callbacks.EarlyStopping(patience=10, restore_best_weights=True)\n",
        "\n",
        "# Learning rate scheduler\n",
        "reduce_lr = callbacks.ReduceLROnPlateau(factor=0.5, patience=5, verbose=1)\n",
        "\n",
        "# Training\n",
        "history = model_tf.fit(\n",
        "    X_train, y_train,\n",
        "    validation_data=(X_test, y_test),\n",
        "    epochs=100,\n",
        "    batch_size=32,\n",
        "    callbacks=[early_stop, reduce_lr],\n",
        "    verbose=1\n",
        ")\n"
      ],
      "metadata": {
        "colab": {
          "base_uri": "https://localhost:8080/"
        },
        "id": "2j-AW-YHaG87",
        "outputId": "d3e764f9-1baa-4e7c-86bb-c7ed90e862fd"
      },
      "execution_count": null,
      "outputs": [
        {
          "output_type": "stream",
          "name": "stderr",
          "text": [
            "/usr/local/lib/python3.11/dist-packages/keras/src/layers/core/dense.py:87: UserWarning: Do not pass an `input_shape`/`input_dim` argument to a layer. When using Sequential models, prefer using an `Input(shape)` object as the first layer in the model instead.\n",
            "  super().__init__(activity_regularizer=activity_regularizer, **kwargs)\n"
          ]
        },
        {
          "output_type": "stream",
          "name": "stdout",
          "text": [
            "Epoch 1/100\n",
            "\u001b[1m7121/7121\u001b[0m \u001b[32m━━━━━━━━━━━━━━━━━━━━\u001b[0m\u001b[37m\u001b[0m \u001b[1m44s\u001b[0m 6ms/step - loss: 0.0992 - val_loss: 0.0047 - learning_rate: 0.0010\n",
            "Epoch 2/100\n",
            "\u001b[1m7121/7121\u001b[0m \u001b[32m━━━━━━━━━━━━━━━━━━━━\u001b[0m\u001b[37m\u001b[0m \u001b[1m76s\u001b[0m 5ms/step - loss: 8.9856e-04 - val_loss: 0.0396 - learning_rate: 0.0010\n",
            "Epoch 3/100\n",
            "\u001b[1m7121/7121\u001b[0m \u001b[32m━━━━━━━━━━━━━━━━━━━━\u001b[0m\u001b[37m\u001b[0m \u001b[1m31s\u001b[0m 4ms/step - loss: 6.7251e-04 - val_loss: 0.0463 - learning_rate: 0.0010\n",
            "Epoch 4/100\n",
            "\u001b[1m7121/7121\u001b[0m \u001b[32m━━━━━━━━━━━━━━━━━━━━\u001b[0m\u001b[37m\u001b[0m \u001b[1m41s\u001b[0m 4ms/step - loss: 5.9219e-04 - val_loss: 0.0086 - learning_rate: 0.0010\n",
            "Epoch 5/100\n",
            "\u001b[1m7121/7121\u001b[0m \u001b[32m━━━━━━━━━━━━━━━━━━━━\u001b[0m\u001b[37m\u001b[0m \u001b[1m31s\u001b[0m 4ms/step - loss: 5.5239e-04 - val_loss: 0.0280 - learning_rate: 0.0010\n",
            "Epoch 6/100\n",
            "\u001b[1m7120/7121\u001b[0m \u001b[32m━━━━━━━━━━━━━━━━━━━\u001b[0m\u001b[37m━\u001b[0m \u001b[1m0s\u001b[0m 4ms/step - loss: 6.0305e-04\n",
            "Epoch 6: ReduceLROnPlateau reducing learning rate to 0.0005000000237487257.\n",
            "\u001b[1m7121/7121\u001b[0m \u001b[32m━━━━━━━━━━━━━━━━━━━━\u001b[0m\u001b[37m\u001b[0m \u001b[1m29s\u001b[0m 4ms/step - loss: 6.0306e-04 - val_loss: 0.0118 - learning_rate: 0.0010\n",
            "Epoch 7/100\n",
            "\u001b[1m7121/7121\u001b[0m \u001b[32m━━━━━━━━━━━━━━━━━━━━\u001b[0m\u001b[37m\u001b[0m \u001b[1m31s\u001b[0m 4ms/step - loss: 5.5328e-04 - val_loss: 0.0310 - learning_rate: 5.0000e-04\n",
            "Epoch 8/100\n",
            "\u001b[1m7121/7121\u001b[0m \u001b[32m━━━━━━━━━━━━━━━━━━━━\u001b[0m\u001b[37m\u001b[0m \u001b[1m33s\u001b[0m 5ms/step - loss: 5.5840e-04 - val_loss: 0.0318 - learning_rate: 5.0000e-04\n",
            "Epoch 9/100\n",
            "\u001b[1m7121/7121\u001b[0m \u001b[32m━━━━━━━━━━━━━━━━━━━━\u001b[0m\u001b[37m\u001b[0m \u001b[1m36s\u001b[0m 5ms/step - loss: 5.5507e-04 - val_loss: 0.0254 - learning_rate: 5.0000e-04\n",
            "Epoch 10/100\n",
            "\u001b[1m7121/7121\u001b[0m \u001b[32m━━━━━━━━━━━━━━━━━━━━\u001b[0m\u001b[37m\u001b[0m \u001b[1m42s\u001b[0m 5ms/step - loss: 5.9123e-04 - val_loss: 0.0238 - learning_rate: 5.0000e-04\n",
            "Epoch 11/100\n",
            "\u001b[1m7119/7121\u001b[0m \u001b[32m━━━━━━━━━━━━━━━━━━━\u001b[0m\u001b[37m━\u001b[0m \u001b[1m0s\u001b[0m 5ms/step - loss: 6.0185e-04\n",
            "Epoch 11: ReduceLROnPlateau reducing learning rate to 0.0002500000118743628.\n",
            "\u001b[1m7121/7121\u001b[0m \u001b[32m━━━━━━━━━━━━━━━━━━━━\u001b[0m\u001b[37m\u001b[0m \u001b[1m38s\u001b[0m 5ms/step - loss: 6.0184e-04 - val_loss: 0.0148 - learning_rate: 5.0000e-04\n"
          ]
        }
      ]
    },
    {
      "cell_type": "markdown",
      "source": [
        "### **PyTorch**"
      ],
      "metadata": {
        "id": "lauePUwqab1Z"
      }
    },
    {
      "cell_type": "code",
      "source": [
        "import torch\n",
        "import torch.nn as nn\n",
        "import torch.optim as optim\n",
        "from torch.utils.data import TensorDataset, DataLoader\n",
        "\n",
        "# Konversi data ke tensor\n",
        "X_train_tensor = torch.tensor(X_train, dtype=torch.float32)\n",
        "y_train_tensor = torch.tensor(y_train.values, dtype=torch.float32).view(-1, 1)\n",
        "X_test_tensor = torch.tensor(X_test, dtype=torch.float32)\n",
        "y_test_tensor = torch.tensor(y_test.values, dtype=torch.float32).view(-1, 1)\n",
        "\n",
        "# DataLoader\n",
        "train_loader = DataLoader(TensorDataset(X_train_tensor, y_train_tensor), batch_size=32, shuffle=True)\n",
        "\n",
        "# Model\n",
        "class MLP(nn.Module):\n",
        "    def __init__(self, input_dim):\n",
        "        super(MLP, self).__init__()\n",
        "        self.net = nn.Sequential(\n",
        "            nn.Linear(input_dim, 128),\n",
        "            nn.BatchNorm1d(128),\n",
        "            nn.ReLU(),\n",
        "            nn.Dropout(0.3),\n",
        "\n",
        "            nn.Linear(128, 64),\n",
        "            nn.BatchNorm1d(64),\n",
        "            nn.ReLU(),\n",
        "            nn.Dropout(0.3),\n",
        "\n",
        "            nn.Linear(64, 1)\n",
        "        )\n",
        "\n",
        "    def forward(self, x):\n",
        "        return self.net(x)\n",
        "\n",
        "model_pt = MLP(X_train.shape[1])\n",
        "\n",
        "# Optimizer & Loss Function\n",
        "criterion = nn.MSELoss()\n",
        "optimizer = optim.AdamW(model_pt.parameters(), lr=0.001, weight_decay=0.01)\n",
        "scheduler = optim.lr_scheduler.ReduceLROnPlateau(optimizer, 'min', patience=5, factor=0.5)\n",
        "\n",
        "# Training loop with early stopping\n",
        "epochs = 100\n",
        "best_loss = float('inf')\n",
        "patience, wait = 10, 0\n",
        "\n",
        "for epoch in range(epochs):\n",
        "    model_pt.train()\n",
        "    for xb, yb in train_loader:\n",
        "        optimizer.zero_grad()\n",
        "        preds = model_pt(xb)\n",
        "        loss = criterion(preds, yb)\n",
        "        loss.backward()\n",
        "        optimizer.step()\n",
        "\n",
        "    model_pt.eval()\n",
        "    with torch.no_grad():\n",
        "        val_preds = model_pt(X_test_tensor)\n",
        "        val_loss = criterion(val_preds, y_test_tensor)\n",
        "\n",
        "    scheduler.step(val_loss)\n",
        "\n",
        "    print(f\"Epoch {epoch+1}: Val Loss: {val_loss.item():.4f}\")\n",
        "\n",
        "    if val_loss.item() < best_loss:\n",
        "        best_loss = val_loss.item()\n",
        "        best_model_state = model_pt.state_dict()\n",
        "        wait = 0\n",
        "    else:\n",
        "        wait += 1\n",
        "        if wait >= patience:\n",
        "            print(\"Early stopping!\")\n",
        "            break\n",
        "\n",
        "# Load best model\n",
        "model_pt.load_state_dict(best_model_state)\n"
      ],
      "metadata": {
        "colab": {
          "base_uri": "https://localhost:8080/"
        },
        "id": "IAT5vnAqaGwe",
        "outputId": "3448e662-309f-454f-8b31-e12cac3492bb"
      },
      "execution_count": null,
      "outputs": [
        {
          "output_type": "stream",
          "name": "stdout",
          "text": [
            "Epoch 1: Val Loss: 0.0218\n",
            "Epoch 2: Val Loss: 0.0472\n",
            "Epoch 3: Val Loss: 0.0099\n",
            "Epoch 4: Val Loss: 0.0228\n",
            "Epoch 5: Val Loss: 0.0444\n",
            "Epoch 6: Val Loss: 0.0099\n",
            "Epoch 7: Val Loss: 0.0064\n",
            "Epoch 8: Val Loss: 0.0074\n",
            "Epoch 9: Val Loss: 0.0063\n",
            "Epoch 10: Val Loss: 0.0046\n",
            "Epoch 11: Val Loss: 0.0044\n",
            "Epoch 12: Val Loss: 0.0022\n",
            "Epoch 13: Val Loss: 0.0061\n",
            "Epoch 14: Val Loss: 0.0098\n",
            "Epoch 15: Val Loss: 0.0036\n",
            "Epoch 16: Val Loss: 0.0013\n",
            "Epoch 17: Val Loss: 0.0012\n",
            "Epoch 18: Val Loss: 0.0012\n",
            "Epoch 19: Val Loss: 0.0014\n",
            "Epoch 20: Val Loss: 0.0010\n",
            "Epoch 21: Val Loss: 0.0009\n",
            "Epoch 22: Val Loss: 0.0012\n",
            "Epoch 23: Val Loss: 0.0012\n",
            "Epoch 24: Val Loss: 0.0011\n",
            "Epoch 25: Val Loss: 0.0010\n",
            "Epoch 26: Val Loss: 0.0008\n",
            "Epoch 27: Val Loss: 0.0008\n",
            "Epoch 28: Val Loss: 0.0009\n",
            "Epoch 29: Val Loss: 0.0013\n",
            "Epoch 30: Val Loss: 0.0019\n",
            "Epoch 31: Val Loss: 0.0011\n",
            "Epoch 32: Val Loss: 0.0009\n",
            "Epoch 33: Val Loss: 0.0008\n",
            "Epoch 34: Val Loss: 0.0009\n",
            "Epoch 35: Val Loss: 0.0010\n",
            "Epoch 36: Val Loss: 0.0008\n",
            "Epoch 37: Val Loss: 0.0010\n",
            "Epoch 38: Val Loss: 0.0008\n",
            "Epoch 39: Val Loss: 0.0008\n",
            "Epoch 40: Val Loss: 0.0010\n",
            "Epoch 41: Val Loss: 0.0008\n",
            "Epoch 42: Val Loss: 0.0009\n",
            "Epoch 43: Val Loss: 0.0008\n",
            "Epoch 44: Val Loss: 0.0008\n",
            "Epoch 45: Val Loss: 0.0010\n",
            "Epoch 46: Val Loss: 0.0008\n",
            "Epoch 47: Val Loss: 0.0008\n",
            "Epoch 48: Val Loss: 0.0009\n",
            "Epoch 49: Val Loss: 0.0008\n",
            "Epoch 50: Val Loss: 0.0008\n",
            "Epoch 51: Val Loss: 0.0009\n",
            "Epoch 52: Val Loss: 0.0009\n",
            "Epoch 53: Val Loss: 0.0008\n",
            "Epoch 54: Val Loss: 0.0008\n",
            "Epoch 55: Val Loss: 0.0009\n",
            "Epoch 56: Val Loss: 0.0008\n",
            "Early stopping!\n"
          ]
        },
        {
          "output_type": "execute_result",
          "data": {
            "text/plain": [
              "<All keys matched successfully>"
            ]
          },
          "metadata": {},
          "execution_count": 4
        }
      ]
    },
    {
      "cell_type": "markdown",
      "source": [
        "## **Evaluasi dan Visualisasi**"
      ],
      "metadata": {
        "id": "E0I_Zx1Xn1fl"
      }
    },
    {
      "cell_type": "code",
      "source": [
        "from sklearn.metrics import mean_squared_error, r2_score\n",
        "import numpy as np\n",
        "import matplotlib.pyplot as plt\n",
        "\n",
        "# Prediksi menggunakan model TensorFlow\n",
        "y_pred_tf = model_tf.predict(X_test)\n",
        "\n",
        "# Hitung metrik evaluasi\n",
        "mse_tf = mean_squared_error(y_test, y_pred_tf)\n",
        "rmse_tf = np.sqrt(mse_tf)\n",
        "r2_tf = r2_score(y_test, y_pred_tf)\n",
        "\n",
        "print(f\"TensorFlow MSE  : {mse_tf:.4f}\")\n",
        "print(f\"TensorFlow RMSE : {rmse_tf:.4f}\")\n",
        "print(f\"TensorFlow R²   : {r2_tf:.4f}\")\n",
        "\n",
        "# Visualisasi: Prediksi vs Aktual\n",
        "plt.figure(figsize=(8,5))\n",
        "plt.scatter(y_test, y_pred_tf, alpha=0.6, color='blue')\n",
        "plt.plot([y_test.min(), y_test.max()], [y_test.min(), y_test.max()], 'r--')\n",
        "plt.xlabel(\"Actual\")\n",
        "plt.ylabel(\"Predicted\")\n",
        "plt.title(\"TensorFlow: Actual vs Predicted\")\n",
        "plt.grid(True)\n",
        "plt.tight_layout()\n",
        "plt.show()\n"
      ],
      "metadata": {
        "colab": {
          "base_uri": "https://localhost:8080/",
          "height": 538
        },
        "id": "Z0fwLIf5aGoR",
        "outputId": "6a2e5c3a-4d99-409b-8b4a-f72f85288db0"
      },
      "execution_count": null,
      "outputs": [
        {
          "output_type": "stream",
          "name": "stdout",
          "text": [
            "\u001b[1m1781/1781\u001b[0m \u001b[32m━━━━━━━━━━━━━━━━━━━━\u001b[0m\u001b[37m\u001b[0m \u001b[1m4s\u001b[0m 2ms/step\n",
            "TensorFlow MSE  : 0.0047\n",
            "TensorFlow RMSE : 0.0688\n",
            "TensorFlow R²   : -1.7584\n"
          ]
        },
        {
          "output_type": "display_data",
          "data": {
            "text/plain": [
              "<Figure size 800x500 with 1 Axes>"
            ],
            "image/png": "[encoded data removed]"
          },
          "metadata": {}
        }
      ]
    },
    {
      "cell_type": "code",
      "source": [
        "# Prediksi menggunakan model PyTorch\n",
        "model_pt.eval()\n",
        "with torch.no_grad():\n",
        "    y_pred_pt = model_pt(X_test_tensor).numpy()\n",
        "\n",
        "# Hitung metrik evaluasi\n",
        "mse_pt = mean_squared_error(y_test, y_pred_pt)\n",
        "rmse_pt = np.sqrt(mse_pt)\n",
        "r2_pt = r2_score(y_test, y_pred_pt)\n",
        "\n",
        "print(f\"PyTorch MSE  : {mse_pt:.4f}\")\n",
        "print(f\"PyTorch RMSE : {rmse_pt:.4f}\")\n",
        "print(f\"PyTorch R²   : {r2_pt:.4f}\")\n",
        "\n",
        "# Visualisasi\n",
        "plt.figure(figsize=(8,5))\n",
        "plt.scatter(y_test, y_pred_pt, alpha=0.6, color='green')\n",
        "plt.plot([y_test.min(), y_test.max()], [y_test.min(), y_test.max()], 'r--')\n",
        "plt.xlabel(\"Actual\")\n",
        "plt.ylabel(\"Predicted\")\n",
        "plt.title(\"PyTorch: Actual vs Predicted\")\n",
        "plt.grid(True)\n",
        "plt.tight_layout()\n",
        "plt.show()\n"
      ],
      "metadata": {
        "colab": {
          "base_uri": "https://localhost:8080/",
          "height": 521
        },
        "id": "4Qp1Lb_fktRQ",
        "outputId": "02f59948-53ad-4283-89ac-c9e7a3f494df"
      },
      "execution_count": null,
      "outputs": [
        {
          "output_type": "stream",
          "name": "stdout",
          "text": [
            "PyTorch MSE  : 0.0008\n",
            "PyTorch RMSE : 0.0283\n",
            "PyTorch R²   : 0.5340\n"
          ]
        },
        {
          "output_type": "display_data",
          "data": {
            "text/plain": [
              "<Figure size 800x500 with 1 Axes>"
            ],
            "image/png": "[encoded data removed]"
          },
          "metadata": {}
        }
      ]
    },
    {
      "cell_type": "markdown",
      "source": [
        "## **Penjelasan Matematik**"
      ],
      "metadata": {
        "id": "DX1Y_C3VoBKZ"
      }
    },
    {
      "cell_type": "markdown",
      "source": [
        "> **Analisis Performa**\n",
        "\n",
        "Untuk PyTorch:\n",
        "* MSE dan RMSE sangat kecil, sehingga model membuat kesalahan prediksi yang rendah\n",
        "* R^2 = 0.5340 yang artinya model menjelaskan 53.4% variasi pada data target atau cukup baik untuk regresi)\n",
        "* model stabil dan tidak overfitting, dan didukung dengan teknik Dropout, BatchNorm, dan L2 regularization.\n",
        "\n",
        "Untuk TensorFlow:\n",
        "\n",
        "* RMSE dan MSE jauh lebih tinggi dari PyTorch\n",
        "* R^2 sangat buruk, yang artinya model lebih buruk dari pada prediksi rata-rata\n",
        "* Kemungkinan terjadi overfitting, kurang optimalnya learning rate, dan early stopping belum bekerja efektif.\n",
        "\n",
        "> **Evaluasi Metrik**\n",
        "\n",
        "* **MSE**\n",
        "\n",
        "![image.png](data:image/png;base64,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)\n",
        "\n",
        "* **RMSE**\n",
        "\n",
        "\n",
        "![image.png](data:image/png;base64,iVBORw0KGgoAAAANSUhEUgAAAEIAAAAqCAYAAAAH843fAAAAAXNSR0IArs4c6QAAAARnQU1BAACxjwv8YQUAAAAJcEhZcwAADsMAAA7DAcdvqGQAAANtSURBVGhD7Zq7SjNBFMcn3wN4yxt4qQVRFBXBwssbKLZWNtYSn0AfQLSwVtBSCy208IKCiFY2MYW1tzeI+zs5J47LJm7MCoZvfjDMfTb7P+fMTEJy5QgXcP80/+8JQihBCCUIoQQhlCCEEoRQghBKEEIJQihBCCUIoQQhlCCE8itCrK+vu1wu9+dSPX5FiL29Pff4+Oj4qeMvpXpkLsTLy4t7e3tz3d3d2tIaZC7E9fW1m5ub01rrkLkQBwcHbmxsTGsVzs/Pv41Vf8zW1pa2Vri/v3fz8/PV/q6uLjc7O+tKpZKOcNW+WulbotjJlJ6envLz87PWPikUCgSppKT+wcFB6Yu8SVsq3N3dlTs7O8tLS0vVebaWv87h4aG0ra2taUsFxrL2d2TqEViut7fX5fN5bfmkvb3dzczMSPnh4UFyY3d310UCSnlyclJyA+/AAzY2NqrrLi4uynj/OW1tbZKPjo5KbuCdQ0NDWquDCpIJm5ubkpKIRCjv7OyI1c7OzrS1LFbF4syjDw/wYV4ai+IJzbzOjzyC2PTj0zg9PXUjIyNa+8rR0ZGbmpqS8uXlpeSwvb3tVlZW3NPTk9T7+/slNzh9bm5uxGvqcXt7W/U4WF1dlZQaFSQVWJIYZhoxGwfLJsE8sypjLI6ju4bU8Qr6sX4c6+OZxLu/L/iwDmP8xL6RloaF4MMjAg+Kb1ZJ4gAvbn28rG2I5IQL67BefKMz6DcDIEpcDMIp/uJs2o3QUGiMj4+Lqy4sLEgdtzYuLi7cxMSE1r5ycnJS7evo6HDv7+9yXJJzLHL3gPhGZ7ApEhrRPiJhsr+/rz0Vrq6uJB8eHpYcisWillKigjQMlvVDodaxCTwGTwKszlgsa5umbXS15vswLn7E4m2NekCcHx+fy8vLcpXGUmyckSiJxyaW56izKzfHKN9DONLwMMBjImG+zOfY5MubD9d3GBgYkNw4Pj5209PTWvuEZ3Ckp0IF+RFmWeKcjSwJrMcYAy/Ak8xDLL79McA8xpnX2N5Em+85tDPfP7bpt7FpaUoIuxcgiH1gH3N5Ui2hrJ/kb5aUEcf6eClezgQEyoSov4af4iFUj6b+FoCr9vX1Sfn19VXyVqWpKzYxzWUoKT5bjfBHESXTL12tTBBCCUIoQQglCKEEIZQghBKEEJz7AJtUJ1tMBNXbAAAAAElFTkSuQmCC)\n",
        "\n",
        "* **R^2**\n",
        "\n",
        "![image.png](data:image/png;base64,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)\n",
        "\n",
        "\n",
        "> **Kesimpulan**\n",
        "\n",
        "Dari penggunaan dua framework (TensorFlow dan PyTorch), model PyTorch memberikan hasil terbaik baik secara akurasi prediksi maupun stabilitas model. Hal ini ditunjukkan dari nilai MSE dan RMSE yang sangat rendah serta R^2 positif, yang menandakan bahwa model memiliki kemampuan generalisasi yang lebih baik pada data yang tidak terlihat sebelumnya.\n"
      ],
      "metadata": {
        "id": "hKd0ceU9oGF0"
      }
    }
  ]
}