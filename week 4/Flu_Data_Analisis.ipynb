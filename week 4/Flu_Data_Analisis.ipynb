{
  "nbformat": 4,
  "nbformat_minor": 0,
  "metadata": {
    "colab": {
      "provenance": [],
      "authorship_tag": "ABX9TyOy7d+fu9mEN+TU16LUU6oE",
      "include_colab_link": true
    },
    "kernelspec": {
      "name": "python3",
      "display_name": "Python 3"
    },
    "language_info": {
      "name": "python"
    }
  },
  "cells": [
    {
      "cell_type": "markdown",
      "metadata": {
        "id": "view-in-github",
        "colab_type": "text"
      },
      "source": [
        "<a href=\"https://colab.research.google.com/github/ybii22/Machine-Learning/blob/main/week%204/Flu_Data_Analisis.ipynb\" target=\"_parent\"><img src=\"https://colab.research.google.com/assets/colab-badge.svg\" alt=\"Open In Colab\"/></a>"
      ]
    },
    {
      "cell_type": "markdown",
      "source": [
        "## **1.EDA**"
      ],
      "metadata": {
        "id": "4qTmZ4r-gsSg"
      }
    },
    {
      "cell_type": "code",
      "execution_count": 2,
      "metadata": {
        "colab": {
          "base_uri": "https://localhost:8080/",
          "height": 817
        },
        "id": "dzLPa7jMcvaw",
        "outputId": "31e41bf5-9549-4d03-9eab-c8163d95acee"
      },
      "outputs": [
        {
          "output_type": "stream",
          "name": "stdout",
          "text": [
            "               Age  neutrophil  serumLevelsOfWhiteBloodCell  lymphocytes  \\\n",
            "count  1454.000000  103.000000                   151.000000   156.000000   \n",
            "mean     26.471040    6.854078                     6.885159     1.850154   \n",
            "std      21.487982   12.690131                     4.346668     3.956668   \n",
            "min       0.000000    0.446000                     0.500000     0.130000   \n",
            "25%       7.000000    2.160000                     3.995000     0.637500   \n",
            "50%      24.000000    3.310000                     5.690000     0.905500   \n",
            "75%      42.000000    6.645000                     9.155000     1.605000   \n",
            "max      88.000000   93.000000                    36.070000    30.600000   \n",
            "\n",
            "       DurationOfIllness  Temperature  \n",
            "count          87.000000   628.000000  \n",
            "mean           13.988506    38.068312  \n",
            "std             9.043171     1.094468  \n",
            "min             1.000000    35.722222  \n",
            "25%             7.000000    37.222222  \n",
            "50%            12.000000    38.000000  \n",
            "75%            20.000000    38.722222  \n",
            "max            37.000000    42.222222  \n"
          ]
        },
        {
          "output_type": "display_data",
          "data": {
            "text/plain": [
              "<Figure size 800x500 with 1 Axes>"
            ],
            "image/png": "[encoded data removed]"
          },
          "metadata": {}
        }
      ],
      "source": [
        "import pandas as pd\n",
        "import seaborn as sns\n",
        "import matplotlib.pyplot as plt\n",
        "\n",
        "# Load dataset\n",
        "df = pd.read_csv(\"/content/flu.csv\")\n",
        "\n",
        "# Menampilkan statistik deskriptif untuk fitur numerik\n",
        "print(df.describe())\n",
        "\n",
        "# Visualisasi distribusi usia\n",
        "plt.figure(figsize=(8, 5))\n",
        "sns.histplot(df[\"Age\"].dropna(), bins=30, kde=True, color=\"blue\")\n",
        "plt.title(\"Distribusi Usia\")\n",
        "plt.xlabel(\"Usia\")\n",
        "plt.ylabel(\"Frekuensi\")\n",
        "plt.show()\n"
      ]
    },
    {
      "cell_type": "markdown",
      "source": [
        "## **2. Handling Missing Values**"
      ],
      "metadata": {
        "id": "JhaEnf81gwgm"
      }
    },
    {
      "cell_type": "code",
      "source": [
        "# Mengisi missing values dengan median untuk numerik dan modus untuk kategorikal\n",
        "numerical_cols = df.select_dtypes(include=['float64']).columns\n",
        "df[numerical_cols] = df[numerical_cols].apply(lambda x: x.fillna(x.median()))\n",
        "\n",
        "categorical_cols = df.select_dtypes(include=['object']).columns\n",
        "df[categorical_cols] = df[categorical_cols].apply(lambda x: x.fillna(x.mode()[0]))\n"
      ],
      "metadata": {
        "id": "8cXpaN9_c1Pv"
      },
      "execution_count": 3,
      "outputs": []
    },
    {
      "cell_type": "markdown",
      "source": [
        "## **3. Encoding Data Kategorikal**"
      ],
      "metadata": {
        "id": "5NGQxv7Sg3U_"
      }
    },
    {
      "cell_type": "code",
      "source": [
        "from sklearn.preprocessing import LabelEncoder\n",
        "\n",
        "label_encoders = {}\n",
        "for col in categorical_cols:\n",
        "    le = LabelEncoder()\n",
        "    df[col] = le.fit_transform(df[col])\n",
        "    label_encoders[col] = le\n",
        "\n",
        "print(df.head())\n"
      ],
      "metadata": {
        "colab": {
          "base_uri": "https://localhost:8080/"
        },
        "id": "9RA8Cg2Fc3oX",
        "outputId": "462b026e-897a-4551-8878-1212b6063664"
      },
      "execution_count": 4,
      "outputs": [
        {
          "output_type": "stream",
          "name": "stdout",
          "text": [
            "   Diagnosis  InitialPCRDiagnosis   Age  Sex  neutrophil  \\\n",
            "0          1                    1  67.0    0        3.31   \n",
            "1          1                    1  29.0    1        3.31   \n",
            "2          1                    1  22.0    0        3.31   \n",
            "3          1                    1  20.0    0        3.31   \n",
            "4          1                    1  21.0    1        3.31   \n",
            "\n",
            "   serumLevelsOfWhiteBloodCell  lymphocytes  CReactiveProteinLevels  \\\n",
            "0                         5.69       0.9055                       2   \n",
            "1                         5.69       0.9055                       2   \n",
            "2                         5.69       0.9055                       2   \n",
            "3                         5.69       0.9055                       2   \n",
            "4                         5.69       0.9055                       2   \n",
            "\n",
            "   DurationOfIllness  CTscanResults  RiskFactors  GroundGlassOpacity  \\\n",
            "0               12.0              1           22                   1   \n",
            "1               12.0              1           22                   1   \n",
            "2               12.0              1           22                   1   \n",
            "3               12.0              1           52                   1   \n",
            "4               12.0              1           22                   1   \n",
            "\n",
            "   Diarrhea  Fever  Coughing  ShortnessOfBreath  SoreThroat  NauseaVomitting  \\\n",
            "0         0      1         1                  1           0                0   \n",
            "1         0      1         1                  1           1                0   \n",
            "2         0      1         1                  1           1                0   \n",
            "3         0      1         1                  1           0                0   \n",
            "4         0      1         1                  1           1                0   \n",
            "\n",
            "   Temperature  Fatigue  \n",
            "0    38.111111        0  \n",
            "1    38.000000        1  \n",
            "2    38.000000        1  \n",
            "3    36.555556        1  \n",
            "4    38.000000        1  \n"
          ]
        }
      ]
    },
    {
      "cell_type": "markdown",
      "source": [
        "## **4. Evaluasi Model dengan Metrik**"
      ],
      "metadata": {
        "id": "6Fu7i47Xg-cA"
      }
    },
    {
      "cell_type": "code",
      "source": [
        "# Evaluasi model\n",
        "accuracy = accuracy_score(y_test, y_pred)\n",
        "precision = precision_score(y_test, y_pred, average=\"weighted\")\n",
        "recall = recall_score(y_test, y_pred, average=\"weighted\")\n",
        "f1 = f1_score(y_test, y_pred, average=\"weighted\")\n",
        "\n",
        "# Pastikan probabilitas hanya untuk kelas positif\n",
        "y_pred_proba_positive = y_pred_proba[:, 1]\n",
        "auc = roc_auc_score(y_test, y_pred_proba_positive, multi_class=\"ovr\")\n",
        "\n",
        "# Cetak hasil evaluasi\n",
        "print(f\"Akurasi: {accuracy}\")\n",
        "print(f\"Presisi: {precision}\")\n",
        "print(f\"Recall: {recall}\")\n",
        "print(f\"F1-Score: {f1}\")\n",
        "print(f\"AUC: {auc}\")\n"
      ],
      "metadata": {
        "colab": {
          "base_uri": "https://localhost:8080/"
        },
        "id": "jTMeK3Puf12h",
        "outputId": "5707b078-4d1b-42a0-f19f-be4f01c57c9c"
      },
      "execution_count": 11,
      "outputs": [
        {
          "output_type": "stream",
          "name": "stdout",
          "text": [
            "Akurasi: 0.8922558922558923\n",
            "Presisi: 0.8912123550060287\n",
            "Recall: 0.8922558922558923\n",
            "F1-Score: 0.8915470494417863\n",
            "AUC: 0.8643585614600109\n"
          ]
        }
      ]
    },
    {
      "cell_type": "markdown",
      "source": [
        "## **5. Penjelasan Matematika**\n",
        "\n",
        "1. Akurasi\n",
        "Akurasi mengukur seberapa banyak prediksi yang benar dibandingkan dengan total jumlah data.\n",
        "\n",
        "         Akurasi= TP+TN/TP+TN+FP+FN\n",
        "\n",
        "*   TP (True Positive): Prediksi benar untuk kelas positif.\n",
        "*   TN (True Negative): Prediksi benar untuk kelas negatif.\n",
        "*   FP (False Positive): Salah mengklasifikasikan negatif sebagai positif.\n",
        "*   FN (False Negative): Salah mengklasifikasikan positif sebagai negatif.\n",
        "\n",
        "2. Presisi\n",
        "presisi mengukur berapa proporsi dari prediksi yang benar-benar positif.\n",
        "\n",
        "\n",
        "                   Presisi= TP/TP+FP\n",
        "\n",
        "presisi penting jika false positive harus diminimalkan, misalnya dalam diagnosis penyakit.\n",
        "\n",
        "3. Recall\n",
        "recall mengukur seberapa baik model menemukan semua sampel positif dalam dataser.\n",
        "\n",
        "              Recall= TP/TP+FN\n",
        "\n",
        "recall tinggi berarti model mendetekeksi kasus positif.\n",
        "\n",
        "4. F1-Score\n",
        "\n",
        "F1-Score adalah rata-rata harmonis antara presisi dan recall.\n",
        "\n",
        "            F1=2× Presisi×Recall/Presisi+Recall\n",
        "\n",
        "5. AUC-ROC\n",
        "\n",
        "AUC-ROC mengukur seberapa baik model dapat membedakan antara kelas positif dan negatif.\n",
        "\n",
        "*   ROC Curve: Plot antara True Positive Rate (TPR) dan False Positive Rate (FPR).\n",
        "*   AUC (Area Under Curve): Luas di bawah kurva ROC. Semakin tinggi nilai AUC, semakin baik model dalam membedakan kelas.\n",
        "\n",
        "persamaan TPR dan FPR adalah\n",
        "\n",
        "                   TPR=  TP/TP+FN\n",
        "\n",
        "                    FPR= FP/FP+TN\n",
        "\n",
        "\n",
        "\n",
        "Nilai AUC:\n",
        "\n",
        "* 0.5 → Model tidak lebih baik dari tebak-tebakan.\n",
        "* 0.7-0.8 → Model cukup baik.\n",
        "* 0.8-0.9 → Model sangat baik.\n",
        "* 0.9-1.0 → Model hampir sempurna.\n",
        "\n",
        "\n",
        "\n",
        "\n"
      ],
      "metadata": {
        "id": "e3zhvB4GgooC"
      }
    }
  ]
}