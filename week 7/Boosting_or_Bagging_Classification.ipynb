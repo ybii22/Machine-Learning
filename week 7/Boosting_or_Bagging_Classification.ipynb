{
  "nbformat": 4,
  "nbformat_minor": 0,
  "metadata": {
    "colab": {
      "provenance": [],
      "authorship_tag": "ABX9TyPFmqBmAMqNo6qsgDPuVP3l",
      "include_colab_link": true
    },
    "kernelspec": {
      "name": "python3",
      "display_name": "Python 3"
    },
    "language_info": {
      "name": "python"
    }
  },
  "cells": [
    {
      "cell_type": "markdown",
      "metadata": {
        "id": "view-in-github",
        "colab_type": "text"
      },
      "source": [
        "<a href=\"https://colab.research.google.com/github/ybii22/Machine-Learning/blob/main/week%207/Boosting_or_Bagging_Classification.ipynb\" target=\"_parent\"><img src=\"https://colab.research.google.com/assets/colab-badge.svg\" alt=\"Open In Colab\"/></a>"
      ]
    },
    {
      "cell_type": "code",
      "execution_count": 1,
      "metadata": {
        "id": "D9fi6Q465ggK",
        "colab": {
          "base_uri": "https://localhost:8080/"
        },
        "outputId": "09ab93cc-b50d-47d3-d4fb-16ee0939aa9e"
      },
      "outputs": [
        {
          "output_type": "stream",
          "name": "stdout",
          "text": [
            "=============== HEART DISEASE ===============\n",
            "<bound method NDFrame.head of      age  sex  cp  trestbps  chol  fbs  restecg  thalach  exang  oldpeak  \\\n",
            "0     63    1   1       145   233    1        2      150      0      2.3   \n",
            "1     67    1   4       160   286    0        2      108      1      1.5   \n",
            "2     67    1   4       120   229    0        2      129      1      2.6   \n",
            "3     37    1   3       130   250    0        0      187      0      3.5   \n",
            "4     41    0   2       130   204    0        2      172      0      1.4   \n",
            "..   ...  ...  ..       ...   ...  ...      ...      ...    ...      ...   \n",
            "298   45    1   1       110   264    0        0      132      0      1.2   \n",
            "299   68    1   4       144   193    1        0      141      0      3.4   \n",
            "300   57    1   4       130   131    0        0      115      1      1.2   \n",
            "301   57    0   2       130   236    0        2      174      0      0.0   \n",
            "302   38    1   3       138   175    0        0      173      0      0.0   \n",
            "\n",
            "     slope   ca  thal  num  \n",
            "0        3  0.0   6.0    0  \n",
            "1        2  3.0   3.0    2  \n",
            "2        2  2.0   7.0    1  \n",
            "3        3  0.0   3.0    0  \n",
            "4        1  0.0   3.0    0  \n",
            "..     ...  ...   ...  ...  \n",
            "298      2  0.0   7.0    1  \n",
            "299      2  2.0   7.0    2  \n",
            "300      2  1.0   7.0    3  \n",
            "301      2  1.0   3.0    1  \n",
            "302      1  NaN   3.0    0  \n",
            "\n",
            "[303 rows x 14 columns]>\n",
            "\n",
            "=============== CITARUM WATER ===============\n",
            "<bound method NDFrame.head of         No NamaSungai             TitikPantau       Waktu        pH     Temp  \\\n",
            "0        1    Citarum             Wangisagara  18/04/2018  7.570000  25.55°C   \n",
            "1        2    Citarum                   Koyod  18/04/2018  7.690000  25.55°C   \n",
            "2        3    Citarum   Setelah IPAL Cisirung  18/04/2018  7.390000  25.55°C   \n",
            "3        4    Citarum                 Nanjung  18/04/2018  7.490000  25.55°C   \n",
            "4        5    Citarum  Outlet Waduk Jatiluhur  18/04/2018  7.170000  25.55°C   \n",
            "...    ...        ...                     ...         ...       ...      ...   \n",
            "2495  2496    Citarum                Cisanti    11/2/2022  6.030091  25.55°C   \n",
            "2496  2497    Citarum             Wangisagara   11/3/2022  6.176031  25.55°C   \n",
            "2497  2498    Citarum                   Koyod   11/4/2022  7.776482  25.55°C   \n",
            "2498  2499    Citarum   Setelah IPAL Cisirung   11/5/2022  7.047090  25.55°C   \n",
            "2499  2500    Citarum                 Nanjung   11/6/2022  6.459304  25.55°C   \n",
            "\n",
            "            TSS        DO       BOD        COD    Nitrat  FecalColiform  \\\n",
            "0     11.000000  6.110000  3.300000   6.100000  1.080000   17000.000000   \n",
            "1     13.000000  6.200000  5.310000  12.500000  1.850000   28000.000000   \n",
            "2     15.000000  3.610000  7.400000  23.500000  1.250000   90000.000000   \n",
            "3     17.000000  3.170000  8.130000  27.500000  1.210000  300000.000000   \n",
            "4      6.000000  6.820000  2.890000   5.440000  1.040000    3000.000000   \n",
            "...         ...       ...       ...        ...       ...            ...   \n",
            "2495  21.152867  4.262901  1.741993  22.357555  1.604541     343.607898   \n",
            "2496  27.077853  3.151708  5.146220  11.099887  2.266671     612.311167   \n",
            "2497  22.022523  7.279574  5.865096  28.140202  2.103214     533.277383   \n",
            "2498  32.364635  1.485632  4.624189  29.394513  1.748222     425.598926   \n",
            "2499  27.895749  1.309943  4.763686  19.122593  2.310984     192.266610   \n",
            "\n",
            "        Fosfat O2    IP  Class  \n",
            "0     0.043000  -  5.12      3  \n",
            "1     0.011000  -  5.91      3  \n",
            "2     0.230000  -  7.76      3  \n",
            "3     0.057000  -  9.61      3  \n",
            "4     0.110000  -  2.44      2  \n",
            "...        ... ..   ...    ...  \n",
            "2495  0.056633  -  0.77      1  \n",
            "2496  0.071878  -  1.61      2  \n",
            "2497  0.044954  -  1.80      2  \n",
            "2498  0.096612  -  1.46      2  \n",
            "2499  0.070611  -  1.49      2  \n",
            "\n",
            "[2500 rows x 16 columns]>\n",
            "\n",
            "=============== INCOME ===============\n",
            "<bound method NDFrame.head of        age         workclass  fnlwgt  education  education-num  \\\n",
            "0       39         State-gov   77516  Bachelors             13   \n",
            "1       50  Self-emp-not-inc   83311  Bachelors             13   \n",
            "2       38           Private  215646    HS-grad              9   \n",
            "3       53           Private  234721       11th              7   \n",
            "4       28           Private  338409  Bachelors             13   \n",
            "...    ...               ...     ...        ...            ...   \n",
            "48837   39           Private  215419  Bachelors             13   \n",
            "48838   64               NaN  321403    HS-grad              9   \n",
            "48839   38           Private  374983  Bachelors             13   \n",
            "48840   44           Private   83891  Bachelors             13   \n",
            "48841   35      Self-emp-inc  182148  Bachelors             13   \n",
            "\n",
            "           marital-status         occupation    relationship  \\\n",
            "0           Never-married       Adm-clerical   Not-in-family   \n",
            "1      Married-civ-spouse    Exec-managerial         Husband   \n",
            "2                Divorced  Handlers-cleaners   Not-in-family   \n",
            "3      Married-civ-spouse  Handlers-cleaners         Husband   \n",
            "4      Married-civ-spouse     Prof-specialty            Wife   \n",
            "...                   ...                ...             ...   \n",
            "48837            Divorced     Prof-specialty   Not-in-family   \n",
            "48838             Widowed                NaN  Other-relative   \n",
            "48839  Married-civ-spouse     Prof-specialty         Husband   \n",
            "48840            Divorced       Adm-clerical       Own-child   \n",
            "48841  Married-civ-spouse    Exec-managerial         Husband   \n",
            "\n",
            "                     race     sex  capital-gain  capital-loss  hours-per-week  \\\n",
            "0                   White    Male          2174             0              40   \n",
            "1                   White    Male             0             0              13   \n",
            "2                   White    Male             0             0              40   \n",
            "3                   Black    Male             0             0              40   \n",
            "4                   Black  Female             0             0              40   \n",
            "...                   ...     ...           ...           ...             ...   \n",
            "48837               White  Female             0             0              36   \n",
            "48838               Black    Male             0             0              40   \n",
            "48839               White    Male             0             0              50   \n",
            "48840  Asian-Pac-Islander    Male          5455             0              40   \n",
            "48841               White    Male             0             0              60   \n",
            "\n",
            "      native-country  income  \n",
            "0      United-States   <=50K  \n",
            "1      United-States   <=50K  \n",
            "2      United-States   <=50K  \n",
            "3      United-States   <=50K  \n",
            "4               Cuba   <=50K  \n",
            "...              ...     ...  \n",
            "48837  United-States  <=50K.  \n",
            "48838  United-States  <=50K.  \n",
            "48839  United-States  <=50K.  \n",
            "48840  United-States  <=50K.  \n",
            "48841  United-States   >50K.  \n",
            "\n",
            "[48842 rows x 15 columns]>\n"
          ]
        }
      ],
      "source": [
        "import pandas as pd\n",
        "import numpy as np\n",
        "import seaborn as sns\n",
        "import matplotlib.pyplot as plt\n",
        "\n",
        "# Load the uploaded datasets\n",
        "heart_df = pd.read_csv('/content/HeartDisease.csv')\n",
        "water_df = pd.read_csv('/content/CitarumWater.csv')\n",
        "income_df = pd.read_csv('/content/income.csv')\n",
        "\n",
        "# Display the first few rows of each dataset\n",
        "print('=============== HEART DISEASE ===============')\n",
        "print(heart_df.head)\n",
        "print()\n",
        "print('=============== CITARUM WATER ===============')\n",
        "print(water_df.head)\n",
        "print()\n",
        "print('=============== INCOME ===============')\n",
        "print(income_df.head)\n"
      ]
    },
    {
      "cell_type": "code",
      "source": [
        "from sklearn.model_selection import train_test_split\n",
        "from sklearn.preprocessing import LabelEncoder, StandardScaler\n",
        "from sklearn.ensemble import RandomForestClassifier\n",
        "from xgboost import XGBClassifier\n",
        "from sklearn.metrics import accuracy_score, precision_score, recall_score, f1_score, roc_auc_score, roc_curve\n",
        "\n",
        "# Fungsi bantu untuk mengubah hasil ke bentuk DataFrame\n",
        "def format_results(results_dict, dataset_name):\n",
        "    rows = []\n",
        "    for model_name, metrics in results_dict.items():\n",
        "        row = {\n",
        "            \"Dataset\": dataset_name,\n",
        "            \"Model\": model_name,\n",
        "            \"Accuracy\": round(metrics[\"Accuracy\"], 4),\n",
        "            \"Precision\": round(metrics[\"Precision\"], 4),\n",
        "            \"Recall\": round(metrics[\"Recall\"], 4),\n",
        "            \"F1 Score\": round(metrics[\"F1 Score\"], 4),\n",
        "            \"AUC\": round(metrics[\"AUC\"], 4)\n",
        "        }\n",
        "        rows.append(row)\n",
        "    return pd.DataFrame(rows)\n",
        "\n",
        "# Gabungkan semua hasil\n",
        "df_results = pd.concat([\n",
        "    format_results(results_heart, \"Heart Disease\"),\n",
        "    format_results(results_citarum, \"Citarum Water\"),\n",
        "    format_results(results_income, \"Income\")\n",
        "], ignore_index=True)\n",
        "\n",
        "# Tampilkan hasil rapi\n",
        "print(df_results)\n"
      ],
      "metadata": {
        "colab": {
          "base_uri": "https://localhost:8080/"
        },
        "id": "b4hjZInAFN1d",
        "outputId": "a8594add-71dd-4ea3-8f72-21c9b6149616"
      },
      "execution_count": 9,
      "outputs": [
        {
          "output_type": "stream",
          "name": "stdout",
          "text": [
            "         Dataset         Model  Accuracy  Precision  Recall  F1 Score     AUC\n",
            "0  Heart Disease  RandomForest    0.8556     0.8500  0.8293    0.8395  0.9338\n",
            "1  Heart Disease       XGBoost    0.8222     0.8205  0.7805    0.8000  0.9049\n",
            "2  Citarum Water  RandomForest    1.0000     1.0000  1.0000    1.0000  1.0000\n",
            "3  Citarum Water       XGBoost    0.9987     1.0000  0.9231    0.9600  0.9999\n",
            "4         Income  RandomForest    0.8521     0.7477  0.6120    0.6731  0.9056\n",
            "5         Income       XGBoost    0.8689     0.7885  0.6463    0.7104  0.9261\n"
          ]
        }
      ]
    },
    {
      "cell_type": "markdown",
      "source": [
        "> Secara keseluruhan, RandomForest adalah model terbaik di dua dataset (Heart Disease dan Citarum Water), sementara XGBoost lebih unggul di dataset Income."
      ],
      "metadata": {
        "id": "6F6nmuoRF2sP"
      }
    }
  ]
}